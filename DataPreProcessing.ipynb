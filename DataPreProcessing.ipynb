{
 "cells": [
  {
   "cell_type": "code",
   "execution_count": 4,
   "metadata": {},
   "outputs": [],
   "source": [
    "import warnings\n",
    "warnings.filterwarnings('ignore')\n",
    "\n",
    "import pandas as pd\n",
    "from collections import defaultdict\n",
    "from pathlib import Path\n",
    "\n",
    "from os import path\n",
    "from PIL import Image\n",
    "from wordcloud import WordCloud, STOPWORDS, ImageColorGenerator\n",
    "\n",
    "import matplotlib.pyplot as plt"
   ]
  },
  {
   "cell_type": "markdown",
   "metadata": {},
   "source": [
    "* [1. Data Pre-Processing](#DPP)\n",
    "    \n",
    "    * [1.1. Extracting Data](#extract)\n",
    "    \n",
    "    * [1.2. Clearing MetaData](#ClearMD)\n",
    "    \n",
    "* [2. Creating a Baseline](#Baseline)"
   ]
  },
  {
   "cell_type": "markdown",
   "metadata": {},
   "source": [
    "<a class=\"anchor\" id=\"DPP\">\n",
    "\n",
    "## 1. Data Preprocessing\n",
    "\n",
    "</a>\n",
    "\n",
    "<a class=\"anchor\" id=\"extract\">\n",
    "\n",
    "### 1.1. Extracting Data\n",
    "</a>"
   ]
  },
  {
   "cell_type": "code",
   "execution_count": 5,
   "metadata": {},
   "outputs": [
    {
     "name": "stdout",
     "output_type": "stream",
     "text": [
      "Collecting git+https://github.com/textpipe/textpipe.git\n",
      "  Cloning https://github.com/textpipe/textpipe.git to c:\\users\\laran\\appdata\\local\\temp\\pip-req-build-0w8d542c\n",
      "Requirement already satisfied: beautifulsoup4~=4.8 in c:\\programdata\\anaconda3\\lib\\site-packages (from textpipe==0.11.10) (4.8.0)\n",
      "Collecting cld2_cffi~=0.1 (from textpipe==0.11.10)\n",
      "  Using cached https://files.pythonhosted.org/packages/52/6d/044789e730141bcda2a7368836f714684a7d13bd44a2a33b387cb31b4335/cld2-cffi-0.1.4.tar.gz\n"
     ]
    },
    {
     "name": "stderr",
     "output_type": "stream",
     "text": [
      "  Running command git clone -q https://github.com/textpipe/textpipe.git 'C:\\Users\\laran\\AppData\\Local\\Temp\\pip-req-build-0w8d542c'\n",
      "    ERROR: Command errored out with exit status 1:\n",
      "     command: 'C:\\ProgramData\\Anaconda3\\python.exe' -c 'import sys, setuptools, tokenize; sys.argv[0] = '\"'\"'C:\\\\Users\\\\laran\\\\AppData\\\\Local\\\\Temp\\\\pip-install-boigd_k3\\\\cld2-cffi\\\\setup.py'\"'\"'; __file__='\"'\"'C:\\\\Users\\\\laran\\\\AppData\\\\Local\\\\Temp\\\\pip-install-boigd_k3\\\\cld2-cffi\\\\setup.py'\"'\"';f=getattr(tokenize, '\"'\"'open'\"'\"', open)(__file__);code=f.read().replace('\"'\"'\\r\\n'\"'\"', '\"'\"'\\n'\"'\"');f.close();exec(compile(code, __file__, '\"'\"'exec'\"'\"'))' egg_info --egg-base pip-egg-info\n",
      "         cwd: C:\\Users\\laran\\AppData\\Local\\Temp\\pip-install-boigd_k3\\cld2-cffi\\\n",
      "    Complete output (8 lines):\n",
      "    running egg_info\n",
      "    creating pip-egg-info\\cld2_cffi.egg-info\n",
      "    writing pip-egg-info\\cld2_cffi.egg-info\\PKG-INFO\n",
      "    writing dependency_links to pip-egg-info\\cld2_cffi.egg-info\\dependency_links.txt\n",
      "    writing requirements to pip-egg-info\\cld2_cffi.egg-info\\requires.txt\n",
      "    writing top-level names to pip-egg-info\\cld2_cffi.egg-info\\top_level.txt\n",
      "    writing manifest file 'pip-egg-info\\cld2_cffi.egg-info\\SOURCES.txt'\n",
      "    error: Microsoft Visual C++ 14.0 is required. Get it with \"Microsoft Visual C++ Build Tools\": https://visualstudio.microsoft.com/downloads/\n",
      "    ----------------------------------------\n",
      "ERROR: Command errored out with exit status 1: python setup.py egg_info Check the logs for full command output.\n"
     ]
    }
   ],
   "source": [
    "import sys \n",
    "!{sys.executable} -m pip install git+https://github.com/textpipe/textpipe.git\n"
   ]
  },
  {
   "cell_type": "code",
   "execution_count": 6,
   "metadata": {},
   "outputs": [],
   "source": [
    "def create_df_from_txt(author):\n",
    "    my_dir_path = \"Data/Corpora/train/\" + author\n",
    "\n",
    "    results = defaultdict(list)\n",
    "    for file in Path(my_dir_path).iterdir():\n",
    "        with open(file, \"r\",encoding = 'utf8') as file_open:\n",
    "            results[\"id\"] = file.name\n",
    "            results[\"text\"].append(file_open.read())\n",
    "            results[\"author\"] = author\n",
    "    df = pd.DataFrame(results)\n",
    "    \n",
    "    return df"
   ]
  },
  {
   "cell_type": "code",
   "execution_count": 7,
   "metadata": {},
   "outputs": [],
   "source": [
    "def join_df(authors):\n",
    "\n",
    "    df = pd.DataFrame()\n",
    "    for a in range(len(authors)):\n",
    "        df = df.append(create_df_from_txt(authors[a]))\n",
    "        \n",
    "    return df "
   ]
  },
  {
   "cell_type": "code",
   "execution_count": 8,
   "metadata": {},
   "outputs": [],
   "source": [
    "authors = ['AlmadaNegreiros','CamiloCasteloBranco','EcaDeQueiros','JoseRodriguesSantos','JoseSaramago','LuisaMarquesSilva']\n",
    "authors_sigla = ['AN','CCB','EQ','JRS','JS','LMS']"
   ]
  },
  {
   "cell_type": "code",
   "execution_count": 9,
   "metadata": {},
   "outputs": [
    {
     "data": {
      "text/html": [
       "<div>\n",
       "<style scoped>\n",
       "    .dataframe tbody tr th:only-of-type {\n",
       "        vertical-align: middle;\n",
       "    }\n",
       "\n",
       "    .dataframe tbody tr th {\n",
       "        vertical-align: top;\n",
       "    }\n",
       "\n",
       "    .dataframe thead th {\n",
       "        text-align: right;\n",
       "    }\n",
       "</style>\n",
       "<table border=\"1\" class=\"dataframe\">\n",
       "  <thead>\n",
       "    <tr style=\"text-align: right;\">\n",
       "      <th></th>\n",
       "      <th>id</th>\n",
       "      <th>text</th>\n",
       "      <th>author</th>\n",
       "    </tr>\n",
       "  </thead>\n",
       "  <tbody>\n",
       "    <tr>\n",
       "      <td>0</td>\n",
       "      <td>pg23961.txt</td>\n",
       "      <td>Title: A Scena do Odio\\n\\nAuthor: José de Alma...</td>\n",
       "      <td>AN</td>\n",
       "    </tr>\n",
       "    <tr>\n",
       "      <td>1</td>\n",
       "      <td>pg23961.txt</td>\n",
       "      <td>Title: O Jardim da Pierrette\\n\\nAuthor: José d...</td>\n",
       "      <td>AN</td>\n",
       "    </tr>\n",
       "    <tr>\n",
       "      <td>2</td>\n",
       "      <td>pg23961.txt</td>\n",
       "      <td>\\n\\nTitle: A Invenção do Dia Claro\\n\\nAuthor: ...</td>\n",
       "      <td>AN</td>\n",
       "    </tr>\n",
       "    <tr>\n",
       "      <td>3</td>\n",
       "      <td>pg23961.txt</td>\n",
       "      <td>\\nTitle: Litoral\\n       A Amadeo de Souza Car...</td>\n",
       "      <td>AN</td>\n",
       "    </tr>\n",
       "    <tr>\n",
       "      <td>4</td>\n",
       "      <td>pg23961.txt</td>\n",
       "      <td>\\n\\n\\nEXPOSIÇÃO\\n\\n+amadeo\\nde souza\\ncardoso+...</td>\n",
       "      <td>AN</td>\n",
       "    </tr>\n",
       "    <tr>\n",
       "      <td>...</td>\n",
       "      <td>...</td>\n",
       "      <td>...</td>\n",
       "      <td>...</td>\n",
       "    </tr>\n",
       "    <tr>\n",
       "      <td>4</td>\n",
       "      <td>UltimaHistoria.txt</td>\n",
       "      <td>Título\\ne-medo\\n\\nAutora (inspiradíssima)\\nLuí...</td>\n",
       "      <td>LMS</td>\n",
       "    </tr>\n",
       "    <tr>\n",
       "      <td>5</td>\n",
       "      <td>UltimaHistoria.txt</td>\n",
       "      <td>LISBOA 2050\\nLisboa, ano de 2050. Um Agosto tã...</td>\n",
       "      <td>LMS</td>\n",
       "    </tr>\n",
       "    <tr>\n",
       "      <td>6</td>\n",
       "      <td>UltimaHistoria.txt</td>\n",
       "      <td>Título\\nUm passeio pelo inferno\\n\\nAutora\\nLuí...</td>\n",
       "      <td>LMS</td>\n",
       "    </tr>\n",
       "    <tr>\n",
       "      <td>7</td>\n",
       "      <td>UltimaHistoria.txt</td>\n",
       "      <td>Título\\nRapsódia sem dó (maior)\\n\\nAutora\\nLuí...</td>\n",
       "      <td>LMS</td>\n",
       "    </tr>\n",
       "    <tr>\n",
       "      <td>8</td>\n",
       "      <td>UltimaHistoria.txt</td>\n",
       "      <td>Título\\nA última história\\n\\nAutora (próximo N...</td>\n",
       "      <td>LMS</td>\n",
       "    </tr>\n",
       "  </tbody>\n",
       "</table>\n",
       "<p>63 rows × 3 columns</p>\n",
       "</div>"
      ],
      "text/plain": [
       "                    id                                               text  \\\n",
       "0          pg23961.txt  Title: A Scena do Odio\\n\\nAuthor: José de Alma...   \n",
       "1          pg23961.txt  Title: O Jardim da Pierrette\\n\\nAuthor: José d...   \n",
       "2          pg23961.txt  \\n\\nTitle: A Invenção do Dia Claro\\n\\nAuthor: ...   \n",
       "3          pg23961.txt  \\nTitle: Litoral\\n       A Amadeo de Souza Car...   \n",
       "4          pg23961.txt  \\n\\n\\nEXPOSIÇÃO\\n\\n+amadeo\\nde souza\\ncardoso+...   \n",
       "..                 ...                                                ...   \n",
       "4   UltimaHistoria.txt  Título\\ne-medo\\n\\nAutora (inspiradíssima)\\nLuí...   \n",
       "5   UltimaHistoria.txt  LISBOA 2050\\nLisboa, ano de 2050. Um Agosto tã...   \n",
       "6   UltimaHistoria.txt  Título\\nUm passeio pelo inferno\\n\\nAutora\\nLuí...   \n",
       "7   UltimaHistoria.txt  Título\\nRapsódia sem dó (maior)\\n\\nAutora\\nLuí...   \n",
       "8   UltimaHistoria.txt  Título\\nA última história\\n\\nAutora (próximo N...   \n",
       "\n",
       "   author  \n",
       "0      AN  \n",
       "1      AN  \n",
       "2      AN  \n",
       "3      AN  \n",
       "4      AN  \n",
       "..    ...  \n",
       "4     LMS  \n",
       "5     LMS  \n",
       "6     LMS  \n",
       "7     LMS  \n",
       "8     LMS  \n",
       "\n",
       "[63 rows x 3 columns]"
      ]
     },
     "execution_count": 9,
     "metadata": {},
     "output_type": "execute_result"
    }
   ],
   "source": [
    "#The training data frame\n",
    "traindf = join_df(authors)\n",
    "#Replacing the name of the authors with labels of their initials\n",
    "for i in range(0,len(authors)):\n",
    "    traindf.author = traindf.author.replace(authors[i],authors_sigla[i])\n",
    "traindf"
   ]
  },
  {
   "cell_type": "markdown",
   "metadata": {},
   "source": [
    "<a class=\"anchor\" id=\"clearMD\">\n",
    "\n",
    "### 1.2. Clearing MetaData\n",
    "</a>\n",
    "\n",
    "The majority of the .txt files have metadata at the beginning. This is unnecessary and may introduce noise in our model, as such it may be a good idea to remove it. "
   ]
  },
  {
   "cell_type": "code",
   "execution_count": 10,
   "metadata": {},
   "outputs": [],
   "source": [
    "import spacy"
   ]
  },
  {
   "cell_type": "markdown",
   "metadata": {},
   "source": [
    "Testing with just one of the .txt:"
   ]
  },
  {
   "cell_type": "code",
   "execution_count": 11,
   "metadata": {},
   "outputs": [
    {
     "data": {
      "text/html": [
       "<div>\n",
       "<style scoped>\n",
       "    .dataframe tbody tr th:only-of-type {\n",
       "        vertical-align: middle;\n",
       "    }\n",
       "\n",
       "    .dataframe tbody tr th {\n",
       "        vertical-align: top;\n",
       "    }\n",
       "\n",
       "    .dataframe thead th {\n",
       "        text-align: right;\n",
       "    }\n",
       "</style>\n",
       "<table border=\"1\" class=\"dataframe\">\n",
       "  <thead>\n",
       "    <tr style=\"text-align: right;\">\n",
       "      <th></th>\n",
       "      <th>id</th>\n",
       "      <th>text</th>\n",
       "      <th>author</th>\n",
       "    </tr>\n",
       "  </thead>\n",
       "  <tbody>\n",
       "    <tr>\n",
       "      <td>0</td>\n",
       "      <td>pg23961.txt</td>\n",
       "      <td>Title: A Scena do Odio\\n\\nAuthor: José de Alma...</td>\n",
       "      <td>AN</td>\n",
       "    </tr>\n",
       "  </tbody>\n",
       "</table>\n",
       "</div>"
      ],
      "text/plain": [
       "            id                                               text author\n",
       "0  pg23961.txt  Title: A Scena do Odio\\n\\nAuthor: José de Alma...     AN"
      ]
     },
     "execution_count": 11,
     "metadata": {},
     "output_type": "execute_result"
    }
   ],
   "source": [
    "test = traindf.iloc[0:1]\n",
    "test"
   ]
  },
  {
   "cell_type": "code",
   "execution_count": 12,
   "metadata": {},
   "outputs": [
    {
     "name": "stdout",
     "output_type": "stream",
     "text": [
      "**SPACE 0 ** Title: A Scena do Odio\n",
      "\n",
      "Author: José de Almada Negreiros\n",
      "\n",
      "Release Date: September 16, 2007 [EBook #22615]\n",
      "\n",
      "Language: Portuguese\n",
      "\n",
      "\n",
      "\n",
      "\n",
      "A ALVARO DE CAMPOS\n",
      "\n",
      "_Excerptos de um poema desbaratado\n",
      "que foi escripto durante os\n",
      "três dias e as três noites que durou\n",
      "a revolução de 14 de Maio de 1915._\n",
      "\n",
      "\n",
      "\n",
      "**SPACE 1 ** Satanizo-Me Tara na Vara de Moysés!\n",
      "O castigo das serpentes é-Me riso nos dentes,\n",
      "Inferno a arder o Meu cantar!\n",
      "Sou Vermelho-Niagára dos sexos escancarados nos chicotes dos cossacos!\n",
      "Sou Pan-Demonio-Trifauce enfermiço de Gula!\n",
      "Sou Genio de Zarathustra em Taças de Maré-Alta!\n",
      "Sou Raiva de Medusa e Damnação do Sol!\n",
      "\n",
      "Ladram-Me a Vida por vivê-La\n",
      "e só me deram Uma!\n",
      "Hão-de lati-La por sina!\n",
      "agora quero vivê-La!\n",
      "Hei-de Poeta cantá-La em Gala sonora e dina!\n",
      "Hei-de Gloria desannuviá-La!\n",
      "Hei-de Guindaste içá-La Esfinge\n",
      "da Valla commum onde Me querem rir!\n",
      "Hei-de trovão-clarim levá-La Luz\n",
      "ás Almas-Noites do Jardim das Lagrymas!\n",
      "Hei-de bombo rufá-La pompa de Pompeia\n",
      "nos Funeraes de Mim!\n",
      "Hei-de Alfange-Mahoma\n",
      "cantar Sodoma na Voz de Nero!\n",
      "Hei-de ser Fuas sem Virgem do Milagre,\n",
      "hei-de ser galope opiado e doido, opiado e doido...,\n",
      "hei-de ser Attila, hei-de Nero, hei-de Eu,\n",
      "cantar Attila, cantar Nero, cantar Eu!\n",
      "\n",
      "Sou throno de Abandono, mal-fadado,\n",
      "nas iras dos barbaros, meus Avós.\n",
      "Oiço ainda da Berlinda d'Eu ser sina\n",
      "gemidos vencidos de fracos,\n",
      "ruidos famintos de saque,\n",
      "ais distantes de Maldição eterna em Voz antiga!\n",
      "Sou ruinas razas, innocentes\n",
      "como as azas de rapinas afogadas.\n",
      "Sou reliquias de martyres impotentes\n",
      "sequestradas em antros do Vicio e da Virtude.\n",
      "Sou clausura de Sancta professa,\n",
      "Mãe exilada do Mal,\n",
      "Hostia d'Angustia no Claustro,\n",
      "freira demente e donzella,\n",
      "virtude sosinha da cella\n",
      "em penitencia do sexo!\n",
      "Sou rasto espesinhado d'Invasores\n",
      "que cruzaram o meu sangue, desvirgando-o.\n",
      "Sou a Raiva atavica dos Tavoras,\n",
      "o sangue bastardo de Nero,\n",
      "o odio do ultimo instante\n",
      "do condemnado innocente!\n",
      "A podenga do Limbo mordeu raivosa\n",
      "as pernas nuas da minh'Alma sem baptismo...\n",
      "Ah! que eu sinto, claramente, que nasci\n",
      "de uma praga de ciumes!\n",
      "Eu sou as sete pragas sobre o Nylo\n",
      "e a Alma dos Borgias a penar!\n",
      "\n",
      "E eu vivo aqui desterrado e Job\n",
      "da Vida-gemea d'Eu ser feliz!\n",
      "E eu vivo aqui sepultado vivo\n",
      "na Verdade de nunca ser Eu!\n",
      "Sou apenas o Mendigo de Mim-Proprio,\n",
      "orphão da Virgem do meu sentir.\n",
      "\n",
      "(Pezam kilos no Meu querer\n",
      "as salas-de-espera de Mim.\n",
      "Tu chegas sempre primeiro...\n",
      "Eu volto sempre amanhã...\n",
      "Agora vou esperar que morras.\n",
      "Mas tu és tantos que não morres...\n",
      "Vou deixar d'esp'rar que morras\n",
      "--Vou deixar d'esp'rar por Mim?!...)\n",
      "\n",
      "Ah! que eu sinto, claramente, que nasci\n",
      "de uma praga de ciumes!\n",
      "Eu sou as sete pragas sobre o Nylo\n",
      "e a Alma dos Borgias a penar!\n",
      "\n",
      "Hei-de, entretanto, gastar a garganta\n",
      "a insultar-te, ó bêsta!\n",
      "Hei-de morder-te a ponta do rabo\n",
      "e pôr-te as mãos no chão, no seu logar!\n",
      "Ahi! Saltímbanco-bando de bandoleiros nefastos!\n",
      "Quadrilheiros contrabandistas da Imbecilidade!\n",
      "Ahi! Espelho-aleijão do Sentimento,\n",
      "macaco-intruja do Alma-realejo!\n",
      "Ahi! maquerelle da Ignorancia!\n",
      "Silenceur do Genio-Tempestade!\n",
      "Spleen da Indigestão!\n",
      "Ahi! meia-tijella, travão das Ascensões!\n",
      "Ahi! povo judeu dos Christos mais que Christo!\n",
      "Ó burguezia! ó ideal com i pequeno!\n",
      "Ó ideal rocócó dos Mendes e Possidonios!\n",
      "Ó cofre d'indigentes\n",
      "cuja personalidade é a moral de todos!\n",
      "Ó geral da mediocridade!\n",
      "Ó claque ignobil do vulgar, protagonista do normal!\n",
      "Ó catitismo das lindezas d'estalo!\n",
      "Ahi! lucro do facil,\n",
      "cartilha-cabotina dos limitados, dos restringidos!\n",
      "Ahi! dique impecilho do Canal da Luz!\n",
      "Ó coito d'impotentes\n",
      "a corar ao sol no riacho da Estupidez!\n",
      "Ahi! Zero-barometro da Convicção!\n",
      "bitola dos chega, dos basta, dos não quero mais!\n",
      "Ahi! plebeismo aristocratisado no preço do panamá!\n",
      "erudição de calça de xadrez!\n",
      "competencia de relogio d'oiro\n",
      "e corrente com suores do Brazil\n",
      "e berloques de cornos de buffalo!\n",
      "\n",
      "Zutt! bruto-parvo-nada\n",
      "que Me roubaste tudo:\n",
      "'té Me roubaste a Vida\n",
      "e não Me deixaste nada!\n",
      "nem Me deixaste a Morte!\n",
      "Zutt! poeira-pingo-microbio\n",
      "que gemes pequenissimo gemidos gigantes,\n",
      "gravido de uma dôr profeta colossal!\n",
      "Zutt! elefante-berloque parasita do não presta!\n",
      "Zutt! bugiganga-celluloide-bagatella!\n",
      "Zutt! bêsta!\n",
      "Zutt! bácoro!!\n",
      "Zutt! merda!!!\n",
      "\n",
      "E tu, tambem, vieille-roche, castello medieval\n",
      "fechado por dentro das tuas ruinas!\n",
      "Fiel epitaphio das cronicas aduladoras!\n",
      "E tu tambem, ó sangue azul antigo\n",
      "que já nasceste co'a biographia feita!\n",
      "Ó pagem loiro das cortezias-avozinhas!\n",
      "Ó pergaminho amarello-mumia\n",
      "das grandes galas brancas das paradas\n",
      "e das victorias dos torneios-loterias\n",
      "com donzellas-glorias!\n",
      "Ó resto de sceptros, fumo de cinzas!\n",
      "Ó lavas frias do vulcão pyrotechnico\n",
      "com chuvas d'oiros e cabeleiras prateadas!\n",
      "Ó estilhaços heraldicos de vitraes\n",
      "despegados lentamente sobre o tanque do silencio!\n",
      "Ó cedro secular\n",
      "debruçado no muro da Quinta sobre a estrada\n",
      "a estorvar o caminho da Mala-posta!\n",
      "\n",
      "E vós tambem, ó Gentes de Pensamento,\n",
      "ó Personalidades, ó Homens!\n",
      "Artistas de todas as partes, cristãos sem patria,\n",
      "Christos vencidos por serem só Um!\n",
      "E vós, ó Genios da Expressão,\n",
      "e vós tambem, ó Genios sem Voz!\n",
      "Ó alem-infinito sem regressos, sem nostalgias,\n",
      "Espectadores gratuitos do Drama-Imenso de Vós-Mesmos!\n",
      "Prophetas cladestinos\n",
      "do Naufragio de Vossos Destinos!\n",
      "\n",
      "E vos tambem, theoricos-irmãos-gemeos\n",
      "do meu sentir internacional!\n",
      "Ó escravos da Independencia!\n",
      "\n",
      "E tu tambem, Belleza Canalha\n",
      "co'a sensibilidade manchada de vinho!\n",
      "O lyrio bravo da Floresta-Ardida\n",
      "á meia-porta da tua Miseria!\n",
      "Ó Fado da Má-Sina\n",
      "com illustrações a giz\n",
      "e lettra da Maldição!\n",
      "Ó féra vadia das viellas açaimada na Lei!\n",
      "O chale e lenço a resguardar a tysica!\n",
      "Ó franzinas do fanico\n",
      "co'a syphilis ao collo por essas esquinas!\n",
      "Ó nu d'aluguer\n",
      "na meia-luz dos cortinados corridos!\n",
      "Ó oratorio da meretriz a mendigar gorgetas\n",
      "pr'á sua Senhora da Boa-Sorte!\n",
      "Ó gentes tatuadas do calão!\n",
      "Ó carro vendado da Penitenciaria!\n",
      "\n",
      "E tu tambem, ó Humilde, ó Símples!\n",
      "enjaulados na vossa Ignorancia!\n",
      "Ó pé descalço a callejar o cerebro!\n",
      "Ó musculos da saude de ter fechada a casa de pensar!\n",
      "Ó alguidar de assôrda fria\n",
      "na ceia-fadiga da dôr-candeia!\n",
      "Ó esteiras duras pr'a dormir e fazer filhos!\n",
      "Ó carretas da Voz do Operario\n",
      "com gente de preto a pé e philarmonica atraz!\n",
      "Ó campas razas engrinaldadas,\n",
      "com chapões de ferro e balões de vidro!\n",
      "Ó bota rôta de mendingo abandonada no pó do caminho!\n",
      "Ó metamorphose-selvagem das feras da cidade!\n",
      "Ó geração de bons ladrões crucificados na Estupidez!\n",
      "\n",
      "Ó sanfona-saloia do fandango dos campinos!\n",
      "Ó pampilho das Lezirias innundadas de Cidade!\n",
      "\n",
      "E vós varinas que sabeis a sal\n",
      "e que trazeis o Mar no vosso avental!\n",
      "\n",
      "E vós tambem, ó moças da Provincia\n",
      "que trazeis o verde dos campos\n",
      "no vermelho das faces pintadas.\n",
      "\n",
      "E tu tambem ó mau gosto\n",
      "co'a saia de baixo a vêr-se\n",
      "e a falta d'educação!\n",
      "Ó oiro de pechisbegue (esperteza dos ciganos)\n",
      "a luzir no vermelho verdadeiro da blusa de chita!\n",
      "Ó tedio do domingo com botas novas\n",
      "e musica n'Avenida!\n",
      "Ó sancta Virgindade\n",
      "a garantir a falta de lindeza!\n",
      "Ó bilhete postal illustrado\n",
      "com apparições de beijos ao lado!\n",
      "\n",
      "Ó Arsenal-fadista de ganga azul e côco socialista!\n",
      "Ó sahidas pôr-do-sol das Fabricas d'Agonia!\n",
      "\n",
      "E vós tambem, nojentos da Politica\n",
      "que exploraes eleitos o Patriotismo!\n",
      "Maquereaux da Patria que vos pariu...\n",
      "\n",
      "E vós tambem, pindericos jornalistas\n",
      "que fazeis cocegas e outras coisas\n",
      "á opinião publica!\n",
      "\n",
      "E tu tambem, roberto fardado:\n",
      "Futrica-te espantalho engalonado,\n",
      "apeia-te das patas de barro,\n",
      "larga a espada de matar\n",
      "e põe o penacho no rabo!\n",
      "Rálha-te mercenario, asceta da Crueldade!\n",
      "Espuma-te no chumbo da tua Valentia!\n",
      "Agoniza-te Rilhafolles armado!\n",
      "Desuniversidadiza-te da doutorança da chacina,\n",
      "da sciencia da matança!\n",
      "Groom fardado da Nêgra,\n",
      "pária da Velha!\n",
      "Encaveira-te nas espóras luzidias de sêres fera!\n",
      "Despe-te da farda,\n",
      "desenfia-te da Impostura, e põe te nu, ao léu\n",
      "que ficas desempregado!\n",
      "Acouraça-te de Senso,\n",
      "vomita de vez o morticinio,\n",
      "enche o pote de raciocinio,\n",
      "aprende a lêr corações,\n",
      "que ha muito mais que fazer\n",
      "do que fazer revoluções!\n",
      "Rebusca no sêres selvagem,\n",
      "no teu cofre do exterminio\n",
      "o teu calibre maximo!\n",
      "acaba de vez com este planeta,\n",
      "faze-te Deus do Mundo em dar-lhe fim!\n",
      "(Ha tanta coisa que fazer, Meu Deus!\n",
      "e esta gente distrahida em guerras!)\n",
      "\n",
      "Olha os que não são nada por te cantarem a ti!\n",
      "tantos mundos!\n",
      "tantos genios\n",
      "que não fizeram nada,\n",
      "que deixaram este mundo tal qual!\n",
      "Olha os grandes o que são, estragados por ti!\n",
      "E de que serve o livro e a sciencia\n",
      "se a experiencia da vida\n",
      "é que faz comprehender a sciencia e o livro?\n",
      "Antes não ter sciencias!\n",
      "Antes não ter livros!\n",
      "\n",
      "Larga a cidade masturbadora, febril,\n",
      "rabo decepado de lagartixa,\n",
      "labyrintho cego de toupeiras,\n",
      "raça de ignobeis myopes, tysicos, tarados,\n",
      "anemicos, cancerosos e arseniados!\n",
      "Larga a cidade!\n",
      "Larga a infamia das ruas e dos boulevards,\n",
      "esse vae-vem cynico de bandidos mudos,\n",
      "esse mexer esponjoso de carne viva,\n",
      "esse sêr-lêsma nojento e macabro,\n",
      "essess zig-zag de chicote auto-fustigante,\n",
      "esse ar expirado e espiritista,\n",
      "esse Inferno de Dante por cantar,\n",
      "esse ruido de sol prostituido, impotente e velho,\n",
      "esse silencio pneumonico\n",
      "de lua enxovalhada sem vir a lavadeira!\n",
      "\n",
      "Larga a cidade e foge!\n",
      "Larga a cidade!\n",
      "Mas larga tudo primeiro, ouviste?\n",
      "Larga tudo!\n",
      "--Os outros, os sentimentos, os instinctos,\n",
      "e larga-te a ti tambem, a ti principalmente!\n",
      "Larga tudo e vae para o campo\n",
      "e larga o campo tambem!\n",
      "--Põe-te a nascer outra vez!\n",
      "Não queiras ter pae nem mãe,\n",
      "não queiras ter outros, nem Intelligencia!\n",
      "E já houve Intelligencia a mais: pode parar por aqui!\n",
      "Depois põe-te a viver sem cabeça,\n",
      "vê só o que os olhos virem,\n",
      "cheira os cheiros da Terra,\n",
      "come o que a Terra dér,\n",
      "bebe dos rios e dos mares,\n",
      "--põe-te na Natureza!\n",
      "\n",
      "Mas tu nem vives, nem deixas viver os mais,\n",
      "Crápula do Egoismo, cartola d'espanta-pardaes!\n",
      "Mas has-de pagar-Me a febre-rodopio\n",
      "novêllo emmaranhado da minha dôr!\n",
      "Mas has-de pagar-Me a febre-calafrio\n",
      "abysmo descida de Eu não querer descer!\n",
      "Has-de pagar-Me o Absyntho e a Morfina!\n",
      "Hei-de ser cigana da tua sina!\n",
      "Hei-de ser a bruxa do teu remorso!\n",
      "Hei-de desforra-dôr cantar-te a buena-dicha\n",
      "em aguas-fortes de Goya\n",
      "e no cavallo de Troya\n",
      "e nos poemas de Poë!\n",
      "Hei-de feiticeira a gallope na vassoira\n",
      "largar-te os meus lagartos e a Peçônha!\n",
      "Hei-de vara magica encantar-te arte de ganir!\n",
      "Hei-de reconstruir em ti a escravatura nêgra!\n",
      "Hei-de despir-te a pelle a pouco e pouco\n",
      "e depois na carne viva deitar fel,\n",
      "e depois na carne viva semear vidros,\n",
      "semear gúmes,\n",
      "lúmes,\n",
      "e tiros!\n",
      "Hei-de gosar em ti as póses diabolicas\n",
      "dos theatraes venenos tragicos da persa Zoroastro!\n",
      "Hei-de rasgar-te as vrilhas com forquilhas e croques,\n",
      "e desfraldar-te nas canellas mirradas\n",
      "o nêgro pendão dos piratas!\n",
      "Hei-de corvo marinho beber-te os olhos vêsgos!\n",
      "Hei-de boia do Destino ser em braza\n",
      "e tu naufrago das galés sem horizontes verdes!\n",
      "\n",
      "Ah que eu sinto claramente que nasci\n",
      "de uma praga de ciumes!\n",
      "Eu sou as sete pragas sobre o Nylo\n",
      "e a alma dos Borgias a penar!\n",
      "\n",
      "\n",
      "\n"
     ]
    }
   ],
   "source": [
    "def set_custom_boundaries(doc):\n",
    "    # Adds support to use '\\n\\n\\n' as the delimiter for sentence detection\n",
    "    for token in doc[:-1]:\n",
    "        if token.text == '\\n\\n\\n':\n",
    "            doc[token.i+1].is_sent_start = True\n",
    "    return doc\n",
    "\n",
    "\n",
    "nlp = spacy.load('en_core_web_sm',disable=[\"parser\"])\n",
    "nlp.add_pipe(set_custom_boundaries)\n",
    "custom_sentences = nlp(test.iloc[0,1])\n",
    "custom_sentences = list(custom_sentences.sents)\n",
    "\n",
    "i=0\n",
    "for sentence in custom_sentences:\n",
    "    print('**SPACE', i, '**', sentence)\n",
    "    i +=1\n",
    "#nlp_pt = spacy.load('pt_core_news_sm')"
   ]
  },
  {
   "cell_type": "code",
   "execution_count": 13,
   "metadata": {},
   "outputs": [],
   "source": [
    "text_nometa = custom_sentences[1]"
   ]
  },
  {
   "cell_type": "code",
   "execution_count": 14,
   "metadata": {},
   "outputs": [],
   "source": [
    "#WIP.... \n",
    "#Works for a few of the .txt files if the meta data is just at the beginning but not if there are too many large spaces (/n/n/n) or if there are spaces between the text"
   ]
  },
  {
   "cell_type": "markdown",
   "metadata": {},
   "source": [
    "<a class=\"anchor\" id=\"Baseline\">\n",
    "\n",
    "## 2. Creating a Baseline\n",
    "    \n",
    "</a>\n",
    "\n",
    "Our goal now is to create a naíve baseline to compare our model with. It won't involve any pre-processing of data or removal of extra meta data."
   ]
  },
  {
   "cell_type": "markdown",
   "metadata": {},
   "source": [
    "1st Try: Using DummyClassifier as a baseline? "
   ]
  },
  {
   "cell_type": "code",
   "execution_count": 15,
   "metadata": {},
   "outputs": [],
   "source": [
    "import numpy as np\n",
    "from sklearn.dummy import DummyClassifier"
   ]
  },
  {
   "cell_type": "code",
   "execution_count": 16,
   "metadata": {},
   "outputs": [
    {
     "data": {
      "text/plain": [
       "array(['CCB', 'CCB', 'CCB', 'CCB', 'CCB', 'CCB', 'CCB', 'CCB', 'CCB',\n",
       "       'CCB', 'CCB', 'CCB', 'CCB', 'CCB', 'CCB', 'CCB', 'CCB', 'CCB',\n",
       "       'CCB', 'CCB', 'CCB', 'CCB', 'CCB', 'CCB', 'CCB', 'CCB', 'CCB',\n",
       "       'CCB', 'CCB', 'CCB', 'CCB', 'CCB', 'CCB', 'CCB', 'CCB', 'CCB',\n",
       "       'CCB', 'CCB', 'CCB', 'CCB', 'CCB', 'CCB', 'CCB', 'CCB', 'CCB',\n",
       "       'CCB', 'CCB', 'CCB', 'CCB', 'CCB', 'CCB', 'CCB', 'CCB', 'CCB',\n",
       "       'CCB', 'CCB', 'CCB', 'CCB', 'CCB', 'CCB', 'CCB', 'CCB', 'CCB'],\n",
       "      dtype='<U3')"
      ]
     },
     "execution_count": 16,
     "metadata": {},
     "output_type": "execute_result"
    }
   ],
   "source": [
    "X = traindf.iloc[:,1]\n",
    "y = traindf.iloc[:,2]\n",
    "dummy_clf = DummyClassifier(strategy=\"most_frequent\") #stratified\n",
    "dummy_clf.fit(X, y)\n",
    "#DummyClassifier(strategy='stratified')\n",
    "dummy_clf.predict(X)\n"
   ]
  },
  {
   "cell_type": "code",
   "execution_count": 17,
   "metadata": {},
   "outputs": [
    {
     "data": {
      "text/plain": [
       "0.31746031746031744"
      ]
     },
     "execution_count": 17,
     "metadata": {},
     "output_type": "execute_result"
    }
   ],
   "source": [
    "dummy_clf.score(X, y)"
   ]
  },
  {
   "cell_type": "markdown",
   "metadata": {},
   "source": [
    "Too stupid of a baseline? "
   ]
  },
  {
   "cell_type": "code",
   "execution_count": null,
   "metadata": {},
   "outputs": [],
   "source": []
  },
  {
   "cell_type": "code",
   "execution_count": null,
   "metadata": {},
   "outputs": [],
   "source": []
  },
  {
   "cell_type": "code",
   "execution_count": null,
   "metadata": {},
   "outputs": [],
   "source": []
  },
  {
   "cell_type": "markdown",
   "metadata": {},
   "source": [
    "## Choosing Evaluation Metrics"
   ]
  },
  {
   "cell_type": "markdown",
   "metadata": {},
   "source": [
    "Can we use Accuracy as an evaluation metric? Depends if the dataset is unbalanced. Let's check:"
   ]
  },
  {
   "cell_type": "code",
   "execution_count": 18,
   "metadata": {},
   "outputs": [
    {
     "data": {
      "text/plain": [
       "CCB    20\n",
       "JS     12\n",
       "LMS     9\n",
       "AN      9\n",
       "JRS     8\n",
       "EQ      5\n",
       "Name: author, dtype: int64"
      ]
     },
     "execution_count": 18,
     "metadata": {},
     "output_type": "execute_result"
    }
   ],
   "source": [
    "traindf.iloc[:,2].value_counts()"
   ]
  },
  {
   "cell_type": "markdown",
   "metadata": {},
   "source": [
    "It is unbalanced in favour of Camilo Castelo Branco which is why we get a higher accuracy when we use the DummyClassifier with most frequent strategy (0.31) compared to other strategies (stratified 0.22) even though it's just classifying all texts as belonging to CCB. As such accuracy may not be the best metric in this case."
   ]
  },
  {
   "cell_type": "markdown",
   "metadata": {},
   "source": [
    "## Word Cloud\n",
    "\n",
    "To see a word cloud - or the most frequent words - written by a given author just type in the function one of the following siglas: \n"
   ]
  },
  {
   "cell_type": "code",
   "execution_count": 37,
   "metadata": {},
   "outputs": [
    {
     "data": {
      "text/plain": [
       "['AN', 'CCB', 'EQ', 'JRS', 'JS', 'LMS']"
      ]
     },
     "execution_count": 37,
     "metadata": {},
     "output_type": "execute_result"
    }
   ],
   "source": [
    "authors_sigla"
   ]
  },
  {
   "cell_type": "markdown",
   "metadata": {},
   "source": [
    "Corresponding to the following authors:"
   ]
  },
  {
   "cell_type": "code",
   "execution_count": 38,
   "metadata": {},
   "outputs": [
    {
     "data": {
      "text/plain": [
       "['AlmadaNegreiros',\n",
       " 'CamiloCasteloBranco',\n",
       " 'EcaDeQueiros',\n",
       " 'JoseRodriguesSantos',\n",
       " 'JoseSaramago',\n",
       " 'LuisaMarquesSilva']"
      ]
     },
     "execution_count": 38,
     "metadata": {},
     "output_type": "execute_result"
    }
   ],
   "source": [
    "authors"
   ]
  },
  {
   "cell_type": "code",
   "execution_count": 39,
   "metadata": {},
   "outputs": [
    {
     "data": {
      "image/png": "[encoded data removed]",
      "text/plain": [
       "<Figure size 432x288 with 1 Axes>"
      ]
     },
     "metadata": {
      "needs_background": "light"
     },
     "output_type": "display_data"
    }
   ],
   "source": [
    "def word_cloud(author):\n",
    "    word_cloud = \" \".join(traindf[traindf['author']==author]['text'])\n",
    "\n",
    "\n",
    "    # Create and generate a word cloud image:\n",
    "    wordcloud = WordCloud(max_font_size=50, max_words=100, background_color=\"white\").generate(word_cloud)\n",
    "    # Display the generated image:\n",
    "    plt.figure()\n",
    "    plt.title('Word Cloud from ' + author)\n",
    "    plt.imshow(wordcloud, interpolation=\"bilinear\")\n",
    "    plt.axis(\"off\")\n",
    "    plt.show()\n",
    "\n",
    "\n",
    "word_cloud('CCB')"
   ]
  },
  {
   "cell_type": "markdown",
   "metadata": {},
   "source": [
    "WILL NEED TO REMOVE STOP WORDS FIRST BEFORE IT MAKES ANY SENSE "
   ]
  },
  {
   "cell_type": "code",
   "execution_count": null,
   "metadata": {},
   "outputs": [],
   "source": []
  }
 ],
 "metadata": {
  "kernelspec": {
   "display_name": "Python 3",
   "language": "python",
   "name": "python3"
  },
  "language_info": {
   "codemirror_mode": {
    "name": "ipython",
    "version": 3
   },
   "file_extension": ".py",
   "mimetype": "text/x-python",
   "name": "python",
   "nbconvert_exporter": "python",
   "pygments_lexer": "ipython3",
   "version": "3.7.4"
  }
 },
 "nbformat": 4,
 "nbformat_minor": 4
}
