{
 "cells": [
  {
   "cell_type": "markdown",
   "metadata": {},
   "source": [
    "# Text Mining Final Project 2019 - 2020\n",
    "\n",
    "## Identifying Authors by Their Writings \n",
    "\n",
    "## Authors: \n",
    "- Lara Neves (m20190867) \n",
    "- Susana Paço (m20190821)\n",
    "- Inês Diogo (m20190301)\n"
   ]
  },
  {
   "cell_type": "code",
   "execution_count": 99,
   "metadata": {},
   "outputs": [],
   "source": [
    "import warnings\n",
    "warnings.filterwarnings('ignore')\n",
    "\n",
    "import pandas as pd\n",
    "from collections import defaultdict\n",
    "from pathlib import Path\n",
    "\n",
    "import os\n",
    "from os import path\n",
    "from PIL import Image\n",
    "from wordcloud import WordCloud, STOPWORDS, ImageColorGenerator\n",
    "\n",
    "import matplotlib.pyplot as plt\n",
    "from sklearn.metrics import f1_score\n"
   ]
  },
  {
   "cell_type": "code",
   "execution_count": 40,
   "metadata": {},
   "outputs": [],
   "source": [
    "import sys \n",
    "#!{sys.executable} -m pip install git+https://github.com/textpipe/textpipe.git\n"
   ]
  },
  {
   "cell_type": "markdown",
   "metadata": {},
   "source": [
    "* [1. Data Pre-Processing](#DPP)\n",
    "    \n",
    "    * [1.1. Renaming txt Files](#rename)\n",
    "\n",
    "    * [1.2. Extracting Data](#extract)\n",
    "    \n",
    "    * [1.3. Clearing MetaData](#ClearMD)\n",
    "    \n",
    "* [2. Creating a Baseline](#Baseline)"
   ]
  },
  {
   "cell_type": "markdown",
   "metadata": {},
   "source": [
    "<a class=\"anchor\" id=\"DPP\">\n",
    "\n",
    "## 1. Data Preprocessing\n",
    "\n",
    "\n",
    "\n",
    "<a class=\"anchor\" id=\"rename\">\n",
    "\n",
    "### 1.1. Renaming .txt Files\n"
   ]
  },
  {
   "cell_type": "code",
   "execution_count": 41,
   "metadata": {},
   "outputs": [],
   "source": [
    "#Changing the names of the .txt files so there's no duplicates\n",
    "\n",
    "def change_file_name(author):\n",
    "    i = 0\n",
    "    my_dir_path = \"Data/Corpora/train/\" + author\n",
    "    \n",
    "    for filename in os.listdir(my_dir_path): \n",
    "        \n",
    "        #Define the new and old names with directory path\n",
    "        new_name =str(author) + str(i) + \".txt\"\n",
    "        old_name = my_dir_path + '/' + filename \n",
    "        new_name = my_dir_path + '/' + new_name \n",
    "        \n",
    "        #So it doesn't give out an error when it runs for the second time\n",
    "        # rename all the files \n",
    "        if new_name != old_name: #IT STILL GIVES OUT ERROR\n",
    "            os.rename(old_name, new_name) \n",
    "        i += 1"
   ]
  },
  {
   "cell_type": "code",
   "execution_count": 42,
   "metadata": {},
   "outputs": [],
   "source": [
    "authors = ['AlmadaNegreiros','CamiloCasteloBranco','EcaDeQueiros','JoseRodriguesSantos','JoseSaramago','LuisaMarquesSilva']\n",
    "authors_sigla = ['AN','CCB','EQ','JRS','JS','LMS']"
   ]
  },
  {
   "cell_type": "markdown",
   "metadata": {},
   "source": [
    "#### ONLY RUN ONCE IF THE FILE NAMES ARE THE ORIGINAL otherwise, running a second time, will give an error"
   ]
  },
  {
   "cell_type": "code",
   "execution_count": 43,
   "metadata": {},
   "outputs": [],
   "source": [
    "#for a in range(len(authors)):\n",
    "#    change_file_name(authors[a])"
   ]
  },
  {
   "cell_type": "markdown",
   "metadata": {},
   "source": [
    "<a class=\"anchor\" id=\"extract\">\n",
    "\n",
    "### 1.2. Extracting Data"
   ]
  },
  {
   "cell_type": "code",
   "execution_count": 44,
   "metadata": {},
   "outputs": [],
   "source": [
    "#Create a df for one author the respective .txt files in the corpora\n",
    "def create_df_from_txt(author):\n",
    "    my_dir_path = \"Data/Corpora/train/\" + author\n",
    "\n",
    "    results = defaultdict(list)\n",
    "    for file in Path(my_dir_path).iterdir():\n",
    "        with open(file, \"r\",encoding = 'utf8') as file_open:\n",
    "            results[\"id\"].append(file.name)\n",
    "            results[\"text\"].append(file_open.read())\n",
    "            results[\"author\"] = author\n",
    "            file_open.close()\n",
    "    df = pd.DataFrame(results)\n",
    "    \n",
    "    return df"
   ]
  },
  {
   "cell_type": "code",
   "execution_count": 45,
   "metadata": {},
   "outputs": [],
   "source": [
    "#Join together the dataframes from all the authors\n",
    "def join_df(authors):\n",
    "\n",
    "    df = pd.DataFrame()\n",
    "    for a in range(len(authors)):\n",
    "        df = df.append(create_df_from_txt(authors[a]))\n",
    "    df.reset_index(inplace = True, drop = True)    \n",
    "    return df "
   ]
  },
  {
   "cell_type": "code",
   "execution_count": 46,
   "metadata": {
    "scrolled": true
   },
   "outputs": [
    {
     "data": {
      "text/html": [
       "<div>\n",
       "<style scoped>\n",
       "    .dataframe tbody tr th:only-of-type {\n",
       "        vertical-align: middle;\n",
       "    }\n",
       "\n",
       "    .dataframe tbody tr th {\n",
       "        vertical-align: top;\n",
       "    }\n",
       "\n",
       "    .dataframe thead th {\n",
       "        text-align: right;\n",
       "    }\n",
       "</style>\n",
       "<table border=\"1\" class=\"dataframe\">\n",
       "  <thead>\n",
       "    <tr style=\"text-align: right;\">\n",
       "      <th></th>\n",
       "      <th>id</th>\n",
       "      <th>text</th>\n",
       "      <th>author</th>\n",
       "    </tr>\n",
       "  </thead>\n",
       "  <tbody>\n",
       "    <tr>\n",
       "      <td>0</td>\n",
       "      <td>AlmadaNegreiros0.txt</td>\n",
       "      <td>Title: A Scena do Odio\\n\\nAuthor: José de Alma...</td>\n",
       "      <td>AN</td>\n",
       "    </tr>\n",
       "    <tr>\n",
       "      <td>1</td>\n",
       "      <td>AlmadaNegreiros1.txt</td>\n",
       "      <td>Title: O Jardim da Pierrette\\n\\nAuthor: José d...</td>\n",
       "      <td>AN</td>\n",
       "    </tr>\n",
       "    <tr>\n",
       "      <td>2</td>\n",
       "      <td>AlmadaNegreiros2.txt</td>\n",
       "      <td>\\n\\nTitle: A Invenção do Dia Claro\\n\\nAuthor: ...</td>\n",
       "      <td>AN</td>\n",
       "    </tr>\n",
       "    <tr>\n",
       "      <td>3</td>\n",
       "      <td>AlmadaNegreiros3.txt</td>\n",
       "      <td>\\nTitle: Litoral\\n       A Amadeo de Souza Car...</td>\n",
       "      <td>AN</td>\n",
       "    </tr>\n",
       "    <tr>\n",
       "      <td>4</td>\n",
       "      <td>AlmadaNegreiros4.txt</td>\n",
       "      <td>\\n\\n\\nEXPOSIÇÃO\\n\\n+amadeo\\nde souza\\ncardoso+...</td>\n",
       "      <td>AN</td>\n",
       "    </tr>\n",
       "    <tr>\n",
       "      <td>...</td>\n",
       "      <td>...</td>\n",
       "      <td>...</td>\n",
       "      <td>...</td>\n",
       "    </tr>\n",
       "    <tr>\n",
       "      <td>58</td>\n",
       "      <td>LuisaMarquesSilva4.txt</td>\n",
       "      <td>Título\\ne-medo\\n\\nAutora (inspiradíssima)\\nLuí...</td>\n",
       "      <td>LMS</td>\n",
       "    </tr>\n",
       "    <tr>\n",
       "      <td>59</td>\n",
       "      <td>LuisaMarquesSilva5.txt</td>\n",
       "      <td>LISBOA 2050\\nLisboa, ano de 2050. Um Agosto tã...</td>\n",
       "      <td>LMS</td>\n",
       "    </tr>\n",
       "    <tr>\n",
       "      <td>60</td>\n",
       "      <td>LuisaMarquesSilva6.txt</td>\n",
       "      <td>Título\\nUm passeio pelo inferno\\n\\nAutora\\nLuí...</td>\n",
       "      <td>LMS</td>\n",
       "    </tr>\n",
       "    <tr>\n",
       "      <td>61</td>\n",
       "      <td>LuisaMarquesSilva7.txt</td>\n",
       "      <td>Título\\nRapsódia sem dó (maior)\\n\\nAutora\\nLuí...</td>\n",
       "      <td>LMS</td>\n",
       "    </tr>\n",
       "    <tr>\n",
       "      <td>62</td>\n",
       "      <td>LuisaMarquesSilva8.txt</td>\n",
       "      <td>Título\\nA última história\\n\\nAutora (próximo N...</td>\n",
       "      <td>LMS</td>\n",
       "    </tr>\n",
       "  </tbody>\n",
       "</table>\n",
       "<p>63 rows × 3 columns</p>\n",
       "</div>"
      ],
      "text/plain": [
       "                        id                                               text  \\\n",
       "0     AlmadaNegreiros0.txt  Title: A Scena do Odio\\n\\nAuthor: José de Alma...   \n",
       "1     AlmadaNegreiros1.txt  Title: O Jardim da Pierrette\\n\\nAuthor: José d...   \n",
       "2     AlmadaNegreiros2.txt  \\n\\nTitle: A Invenção do Dia Claro\\n\\nAuthor: ...   \n",
       "3     AlmadaNegreiros3.txt  \\nTitle: Litoral\\n       A Amadeo de Souza Car...   \n",
       "4     AlmadaNegreiros4.txt  \\n\\n\\nEXPOSIÇÃO\\n\\n+amadeo\\nde souza\\ncardoso+...   \n",
       "..                     ...                                                ...   \n",
       "58  LuisaMarquesSilva4.txt  Título\\ne-medo\\n\\nAutora (inspiradíssima)\\nLuí...   \n",
       "59  LuisaMarquesSilva5.txt  LISBOA 2050\\nLisboa, ano de 2050. Um Agosto tã...   \n",
       "60  LuisaMarquesSilva6.txt  Título\\nUm passeio pelo inferno\\n\\nAutora\\nLuí...   \n",
       "61  LuisaMarquesSilva7.txt  Título\\nRapsódia sem dó (maior)\\n\\nAutora\\nLuí...   \n",
       "62  LuisaMarquesSilva8.txt  Título\\nA última história\\n\\nAutora (próximo N...   \n",
       "\n",
       "   author  \n",
       "0      AN  \n",
       "1      AN  \n",
       "2      AN  \n",
       "3      AN  \n",
       "4      AN  \n",
       "..    ...  \n",
       "58    LMS  \n",
       "59    LMS  \n",
       "60    LMS  \n",
       "61    LMS  \n",
       "62    LMS  \n",
       "\n",
       "[63 rows x 3 columns]"
      ]
     },
     "execution_count": 46,
     "metadata": {},
     "output_type": "execute_result"
    }
   ],
   "source": [
    "### Running all the functions\n",
    "\n",
    "#Creating the training data frame\n",
    "traindf = join_df(authors)\n",
    "\n",
    "#Replacing the name of the authors with labels of their initials\n",
    "for i in range(0,len(authors)):\n",
    "    traindf.author = traindf.author.replace(authors[i],authors_sigla[i])\n",
    "traindf"
   ]
  },
  {
   "cell_type": "markdown",
   "metadata": {},
   "source": [
    "<a class=\"anchor\" id=\"clearMD\">\n",
    "\n",
    "### 1.2. Clearing MetaData\n",
    "</a>\n",
    "\n",
    "The majority of the .txt files have metadata at the beginning. This is unnecessary and may introduce noise in our model, as such it may be a good idea to remove it. "
   ]
  },
  {
   "cell_type": "code",
   "execution_count": 47,
   "metadata": {},
   "outputs": [],
   "source": [
    "import spacy"
   ]
  },
  {
   "cell_type": "markdown",
   "metadata": {},
   "source": [
    "Testing with just one of the .txt:"
   ]
  },
  {
   "cell_type": "code",
   "execution_count": 48,
   "metadata": {},
   "outputs": [
    {
     "data": {
      "text/html": [
       "<div>\n",
       "<style scoped>\n",
       "    .dataframe tbody tr th:only-of-type {\n",
       "        vertical-align: middle;\n",
       "    }\n",
       "\n",
       "    .dataframe tbody tr th {\n",
       "        vertical-align: top;\n",
       "    }\n",
       "\n",
       "    .dataframe thead th {\n",
       "        text-align: right;\n",
       "    }\n",
       "</style>\n",
       "<table border=\"1\" class=\"dataframe\">\n",
       "  <thead>\n",
       "    <tr style=\"text-align: right;\">\n",
       "      <th></th>\n",
       "      <th>id</th>\n",
       "      <th>text</th>\n",
       "      <th>author</th>\n",
       "    </tr>\n",
       "  </thead>\n",
       "  <tbody>\n",
       "    <tr>\n",
       "      <td>0</td>\n",
       "      <td>AlmadaNegreiros0.txt</td>\n",
       "      <td>Title: A Scena do Odio\\n\\nAuthor: José de Alma...</td>\n",
       "      <td>AN</td>\n",
       "    </tr>\n",
       "  </tbody>\n",
       "</table>\n",
       "</div>"
      ],
      "text/plain": [
       "                     id                                               text  \\\n",
       "0  AlmadaNegreiros0.txt  Title: A Scena do Odio\\n\\nAuthor: José de Alma...   \n",
       "\n",
       "  author  \n",
       "0     AN  "
      ]
     },
     "execution_count": 48,
     "metadata": {},
     "output_type": "execute_result"
    }
   ],
   "source": [
    "test = traindf.iloc[0:1]\n",
    "test"
   ]
  },
  {
   "cell_type": "code",
   "execution_count": 49,
   "metadata": {},
   "outputs": [
    {
     "name": "stdout",
     "output_type": "stream",
     "text": [
      "**SPACE 0 ** Title: A Scena do Odio\n",
      "\n",
      "Author: José de Almada Negreiros\n",
      "\n",
      "Release Date: September 16, 2007 [EBook #22615]\n",
      "\n",
      "Language: Portuguese\n",
      "\n",
      "\n",
      "\n",
      "\n",
      "A ALVARO DE CAMPOS\n",
      "\n",
      "_Excerptos de um poema desbaratado\n",
      "que foi escripto durante os\n",
      "três dias e as três noites que durou\n",
      "a revolução de 14 de Maio de 1915._\n",
      "\n",
      "\n",
      "\n",
      "**SPACE 1 ** Satanizo-Me Tara na Vara de Moysés!\n",
      "O castigo das serpentes é-Me riso nos dentes,\n",
      "Inferno a arder o Meu cantar!\n",
      "Sou Vermelho-Niagára dos sexos escancarados nos chicotes dos cossacos!\n",
      "Sou Pan-Demonio-Trifauce enfermiço de Gula!\n",
      "Sou Genio de Zarathustra em Taças de Maré-Alta!\n",
      "Sou Raiva de Medusa e Damnação do Sol!\n",
      "\n",
      "Ladram-Me a Vida por vivê-La\n",
      "e só me deram Uma!\n",
      "Hão-de lati-La por sina!\n",
      "agora quero vivê-La!\n",
      "Hei-de Poeta cantá-La em Gala sonora e dina!\n",
      "Hei-de Gloria desannuviá-La!\n",
      "Hei-de Guindaste içá-La Esfinge\n",
      "da Valla commum onde Me querem rir!\n",
      "Hei-de trovão-clarim levá-La Luz\n",
      "ás Almas-Noites do Jardim das Lagrymas!\n",
      "Hei-de bombo rufá-La pompa de Pompeia\n",
      "nos Funeraes de Mim!\n",
      "Hei-de Alfange-Mahoma\n",
      "cantar Sodoma na Voz de Nero!\n",
      "Hei-de ser Fuas sem Virgem do Milagre,\n",
      "hei-de ser galope opiado e doido, opiado e doido...,\n",
      "hei-de ser Attila, hei-de Nero, hei-de Eu,\n",
      "cantar Attila, cantar Nero, cantar Eu!\n",
      "\n",
      "Sou throno de Abandono, mal-fadado,\n",
      "nas iras dos barbaros, meus Avós.\n",
      "Oiço ainda da Berlinda d'Eu ser sina\n",
      "gemidos vencidos de fracos,\n",
      "ruidos famintos de saque,\n",
      "ais distantes de Maldição eterna em Voz antiga!\n",
      "Sou ruinas razas, innocentes\n",
      "como as azas de rapinas afogadas.\n",
      "Sou reliquias de martyres impotentes\n",
      "sequestradas em antros do Vicio e da Virtude.\n",
      "Sou clausura de Sancta professa,\n",
      "Mãe exilada do Mal,\n",
      "Hostia d'Angustia no Claustro,\n",
      "freira demente e donzella,\n",
      "virtude sosinha da cella\n",
      "em penitencia do sexo!\n",
      "Sou rasto espesinhado d'Invasores\n",
      "que cruzaram o meu sangue, desvirgando-o.\n",
      "Sou a Raiva atavica dos Tavoras,\n",
      "o sangue bastardo de Nero,\n",
      "o odio do ultimo instante\n",
      "do condemnado innocente!\n",
      "A podenga do Limbo mordeu raivosa\n",
      "as pernas nuas da minh'Alma sem baptismo...\n",
      "Ah! que eu sinto, claramente, que nasci\n",
      "de uma praga de ciumes!\n",
      "Eu sou as sete pragas sobre o Nylo\n",
      "e a Alma dos Borgias a penar!\n",
      "\n",
      "E eu vivo aqui desterrado e Job\n",
      "da Vida-gemea d'Eu ser feliz!\n",
      "E eu vivo aqui sepultado vivo\n",
      "na Verdade de nunca ser Eu!\n",
      "Sou apenas o Mendigo de Mim-Proprio,\n",
      "orphão da Virgem do meu sentir.\n",
      "\n",
      "(Pezam kilos no Meu querer\n",
      "as salas-de-espera de Mim.\n",
      "Tu chegas sempre primeiro...\n",
      "Eu volto sempre amanhã...\n",
      "Agora vou esperar que morras.\n",
      "Mas tu és tantos que não morres...\n",
      "Vou deixar d'esp'rar que morras\n",
      "--Vou deixar d'esp'rar por Mim?!...)\n",
      "\n",
      "Ah! que eu sinto, claramente, que nasci\n",
      "de uma praga de ciumes!\n",
      "Eu sou as sete pragas sobre o Nylo\n",
      "e a Alma dos Borgias a penar!\n",
      "\n",
      "Hei-de, entretanto, gastar a garganta\n",
      "a insultar-te, ó bêsta!\n",
      "Hei-de morder-te a ponta do rabo\n",
      "e pôr-te as mãos no chão, no seu logar!\n",
      "Ahi! Saltímbanco-bando de bandoleiros nefastos!\n",
      "Quadrilheiros contrabandistas da Imbecilidade!\n",
      "Ahi! Espelho-aleijão do Sentimento,\n",
      "macaco-intruja do Alma-realejo!\n",
      "Ahi! maquerelle da Ignorancia!\n",
      "Silenceur do Genio-Tempestade!\n",
      "Spleen da Indigestão!\n",
      "Ahi! meia-tijella, travão das Ascensões!\n",
      "Ahi! povo judeu dos Christos mais que Christo!\n",
      "Ó burguezia! ó ideal com i pequeno!\n",
      "Ó ideal rocócó dos Mendes e Possidonios!\n",
      "Ó cofre d'indigentes\n",
      "cuja personalidade é a moral de todos!\n",
      "Ó geral da mediocridade!\n",
      "Ó claque ignobil do vulgar, protagonista do normal!\n",
      "Ó catitismo das lindezas d'estalo!\n",
      "Ahi! lucro do facil,\n",
      "cartilha-cabotina dos limitados, dos restringidos!\n",
      "Ahi! dique impecilho do Canal da Luz!\n",
      "Ó coito d'impotentes\n",
      "a corar ao sol no riacho da Estupidez!\n",
      "Ahi! Zero-barometro da Convicção!\n",
      "bitola dos chega, dos basta, dos não quero mais!\n",
      "Ahi! plebeismo aristocratisado no preço do panamá!\n",
      "erudição de calça de xadrez!\n",
      "competencia de relogio d'oiro\n",
      "e corrente com suores do Brazil\n",
      "e berloques de cornos de buffalo!\n",
      "\n",
      "Zutt! bruto-parvo-nada\n",
      "que Me roubaste tudo:\n",
      "'té Me roubaste a Vida\n",
      "e não Me deixaste nada!\n",
      "nem Me deixaste a Morte!\n",
      "Zutt! poeira-pingo-microbio\n",
      "que gemes pequenissimo gemidos gigantes,\n",
      "gravido de uma dôr profeta colossal!\n",
      "Zutt! elefante-berloque parasita do não presta!\n",
      "Zutt! bugiganga-celluloide-bagatella!\n",
      "Zutt! bêsta!\n",
      "Zutt! bácoro!!\n",
      "Zutt! merda!!!\n",
      "\n",
      "E tu, tambem, vieille-roche, castello medieval\n",
      "fechado por dentro das tuas ruinas!\n",
      "Fiel epitaphio das cronicas aduladoras!\n",
      "E tu tambem, ó sangue azul antigo\n",
      "que já nasceste co'a biographia feita!\n",
      "Ó pagem loiro das cortezias-avozinhas!\n",
      "Ó pergaminho amarello-mumia\n",
      "das grandes galas brancas das paradas\n",
      "e das victorias dos torneios-loterias\n",
      "com donzellas-glorias!\n",
      "Ó resto de sceptros, fumo de cinzas!\n",
      "Ó lavas frias do vulcão pyrotechnico\n",
      "com chuvas d'oiros e cabeleiras prateadas!\n",
      "Ó estilhaços heraldicos de vitraes\n",
      "despegados lentamente sobre o tanque do silencio!\n",
      "Ó cedro secular\n",
      "debruçado no muro da Quinta sobre a estrada\n",
      "a estorvar o caminho da Mala-posta!\n",
      "\n",
      "E vós tambem, ó Gentes de Pensamento,\n",
      "ó Personalidades, ó Homens!\n",
      "Artistas de todas as partes, cristãos sem patria,\n",
      "Christos vencidos por serem só Um!\n",
      "E vós, ó Genios da Expressão,\n",
      "e vós tambem, ó Genios sem Voz!\n",
      "Ó alem-infinito sem regressos, sem nostalgias,\n",
      "Espectadores gratuitos do Drama-Imenso de Vós-Mesmos!\n",
      "Prophetas cladestinos\n",
      "do Naufragio de Vossos Destinos!\n",
      "\n",
      "E vos tambem, theoricos-irmãos-gemeos\n",
      "do meu sentir internacional!\n",
      "Ó escravos da Independencia!\n",
      "\n",
      "E tu tambem, Belleza Canalha\n",
      "co'a sensibilidade manchada de vinho!\n",
      "O lyrio bravo da Floresta-Ardida\n",
      "á meia-porta da tua Miseria!\n",
      "Ó Fado da Má-Sina\n",
      "com illustrações a giz\n",
      "e lettra da Maldição!\n",
      "Ó féra vadia das viellas açaimada na Lei!\n",
      "O chale e lenço a resguardar a tysica!\n",
      "Ó franzinas do fanico\n",
      "co'a syphilis ao collo por essas esquinas!\n",
      "Ó nu d'aluguer\n",
      "na meia-luz dos cortinados corridos!\n",
      "Ó oratorio da meretriz a mendigar gorgetas\n",
      "pr'á sua Senhora da Boa-Sorte!\n",
      "Ó gentes tatuadas do calão!\n",
      "Ó carro vendado da Penitenciaria!\n",
      "\n",
      "E tu tambem, ó Humilde, ó Símples!\n",
      "enjaulados na vossa Ignorancia!\n",
      "Ó pé descalço a callejar o cerebro!\n",
      "Ó musculos da saude de ter fechada a casa de pensar!\n",
      "Ó alguidar de assôrda fria\n",
      "na ceia-fadiga da dôr-candeia!\n",
      "Ó esteiras duras pr'a dormir e fazer filhos!\n",
      "Ó carretas da Voz do Operario\n",
      "com gente de preto a pé e philarmonica atraz!\n",
      "Ó campas razas engrinaldadas,\n",
      "com chapões de ferro e balões de vidro!\n",
      "Ó bota rôta de mendingo abandonada no pó do caminho!\n",
      "Ó metamorphose-selvagem das feras da cidade!\n",
      "Ó geração de bons ladrões crucificados na Estupidez!\n",
      "\n",
      "Ó sanfona-saloia do fandango dos campinos!\n",
      "Ó pampilho das Lezirias innundadas de Cidade!\n",
      "\n",
      "E vós varinas que sabeis a sal\n",
      "e que trazeis o Mar no vosso avental!\n",
      "\n",
      "E vós tambem, ó moças da Provincia\n",
      "que trazeis o verde dos campos\n",
      "no vermelho das faces pintadas.\n",
      "\n",
      "E tu tambem ó mau gosto\n",
      "co'a saia de baixo a vêr-se\n",
      "e a falta d'educação!\n",
      "Ó oiro de pechisbegue (esperteza dos ciganos)\n",
      "a luzir no vermelho verdadeiro da blusa de chita!\n",
      "Ó tedio do domingo com botas novas\n",
      "e musica n'Avenida!\n",
      "Ó sancta Virgindade\n",
      "a garantir a falta de lindeza!\n",
      "Ó bilhete postal illustrado\n",
      "com apparições de beijos ao lado!\n",
      "\n",
      "Ó Arsenal-fadista de ganga azul e côco socialista!\n",
      "Ó sahidas pôr-do-sol das Fabricas d'Agonia!\n",
      "\n",
      "E vós tambem, nojentos da Politica\n",
      "que exploraes eleitos o Patriotismo!\n",
      "Maquereaux da Patria que vos pariu...\n",
      "\n",
      "E vós tambem, pindericos jornalistas\n",
      "que fazeis cocegas e outras coisas\n",
      "á opinião publica!\n",
      "\n",
      "E tu tambem, roberto fardado:\n",
      "Futrica-te espantalho engalonado,\n",
      "apeia-te das patas de barro,\n",
      "larga a espada de matar\n",
      "e põe o penacho no rabo!\n",
      "Rálha-te mercenario, asceta da Crueldade!\n",
      "Espuma-te no chumbo da tua Valentia!\n",
      "Agoniza-te Rilhafolles armado!\n",
      "Desuniversidadiza-te da doutorança da chacina,\n",
      "da sciencia da matança!\n",
      "Groom fardado da Nêgra,\n",
      "pária da Velha!\n",
      "Encaveira-te nas espóras luzidias de sêres fera!\n",
      "Despe-te da farda,\n",
      "desenfia-te da Impostura, e põe te nu, ao léu\n",
      "que ficas desempregado!\n",
      "Acouraça-te de Senso,\n",
      "vomita de vez o morticinio,\n",
      "enche o pote de raciocinio,\n",
      "aprende a lêr corações,\n",
      "que ha muito mais que fazer\n",
      "do que fazer revoluções!\n",
      "Rebusca no sêres selvagem,\n",
      "no teu cofre do exterminio\n",
      "o teu calibre maximo!\n",
      "acaba de vez com este planeta,\n",
      "faze-te Deus do Mundo em dar-lhe fim!\n",
      "(Ha tanta coisa que fazer, Meu Deus!\n",
      "e esta gente distrahida em guerras!)\n",
      "\n",
      "Olha os que não são nada por te cantarem a ti!\n",
      "tantos mundos!\n",
      "tantos genios\n",
      "que não fizeram nada,\n",
      "que deixaram este mundo tal qual!\n",
      "Olha os grandes o que são, estragados por ti!\n",
      "E de que serve o livro e a sciencia\n",
      "se a experiencia da vida\n",
      "é que faz comprehender a sciencia e o livro?\n",
      "Antes não ter sciencias!\n",
      "Antes não ter livros!\n",
      "\n",
      "Larga a cidade masturbadora, febril,\n",
      "rabo decepado de lagartixa,\n",
      "labyrintho cego de toupeiras,\n",
      "raça de ignobeis myopes, tysicos, tarados,\n",
      "anemicos, cancerosos e arseniados!\n",
      "Larga a cidade!\n",
      "Larga a infamia das ruas e dos boulevards,\n",
      "esse vae-vem cynico de bandidos mudos,\n",
      "esse mexer esponjoso de carne viva,\n",
      "esse sêr-lêsma nojento e macabro,\n",
      "essess zig-zag de chicote auto-fustigante,\n",
      "esse ar expirado e espiritista,\n",
      "esse Inferno de Dante por cantar,\n",
      "esse ruido de sol prostituido, impotente e velho,\n",
      "esse silencio pneumonico\n",
      "de lua enxovalhada sem vir a lavadeira!\n",
      "\n",
      "Larga a cidade e foge!\n",
      "Larga a cidade!\n",
      "Mas larga tudo primeiro, ouviste?\n",
      "Larga tudo!\n",
      "--Os outros, os sentimentos, os instinctos,\n",
      "e larga-te a ti tambem, a ti principalmente!\n",
      "Larga tudo e vae para o campo\n",
      "e larga o campo tambem!\n",
      "--Põe-te a nascer outra vez!\n",
      "Não queiras ter pae nem mãe,\n",
      "não queiras ter outros, nem Intelligencia!\n",
      "E já houve Intelligencia a mais: pode parar por aqui!\n",
      "Depois põe-te a viver sem cabeça,\n",
      "vê só o que os olhos virem,\n",
      "cheira os cheiros da Terra,\n",
      "come o que a Terra dér,\n",
      "bebe dos rios e dos mares,\n",
      "--põe-te na Natureza!\n",
      "\n",
      "Mas tu nem vives, nem deixas viver os mais,\n",
      "Crápula do Egoismo, cartola d'espanta-pardaes!\n",
      "Mas has-de pagar-Me a febre-rodopio\n",
      "novêllo emmaranhado da minha dôr!\n",
      "Mas has-de pagar-Me a febre-calafrio\n",
      "abysmo descida de Eu não querer descer!\n",
      "Has-de pagar-Me o Absyntho e a Morfina!\n",
      "Hei-de ser cigana da tua sina!\n",
      "Hei-de ser a bruxa do teu remorso!\n",
      "Hei-de desforra-dôr cantar-te a buena-dicha\n",
      "em aguas-fortes de Goya\n",
      "e no cavallo de Troya\n",
      "e nos poemas de Poë!\n",
      "Hei-de feiticeira a gallope na vassoira\n",
      "largar-te os meus lagartos e a Peçônha!\n",
      "Hei-de vara magica encantar-te arte de ganir!\n",
      "Hei-de reconstruir em ti a escravatura nêgra!\n",
      "Hei-de despir-te a pelle a pouco e pouco\n",
      "e depois na carne viva deitar fel,\n",
      "e depois na carne viva semear vidros,\n",
      "semear gúmes,\n",
      "lúmes,\n",
      "e tiros!\n",
      "Hei-de gosar em ti as póses diabolicas\n",
      "dos theatraes venenos tragicos da persa Zoroastro!\n",
      "Hei-de rasgar-te as vrilhas com forquilhas e croques,\n",
      "e desfraldar-te nas canellas mirradas\n",
      "o nêgro pendão dos piratas!\n",
      "Hei-de corvo marinho beber-te os olhos vêsgos!\n",
      "Hei-de boia do Destino ser em braza\n",
      "e tu naufrago das galés sem horizontes verdes!\n",
      "\n",
      "Ah que eu sinto claramente que nasci\n",
      "de uma praga de ciumes!\n",
      "Eu sou as sete pragas sobre o Nylo\n",
      "e a alma dos Borgias a penar!\n",
      "\n",
      "\n",
      "\n"
     ]
    }
   ],
   "source": [
    "def set_custom_boundaries(doc):\n",
    "    # Adds support to use '\\n\\n\\n' as the delimiter for sentence detection\n",
    "    for token in doc[:-1]:\n",
    "        if token.text == '\\n\\n\\n':\n",
    "            doc[token.i+1].is_sent_start = True\n",
    "    return doc\n",
    "\n",
    "\n",
    "nlp = spacy.load('en_core_web_sm',disable=[\"parser\"])\n",
    "nlp.add_pipe(set_custom_boundaries)\n",
    "custom_sentences = nlp(test.iloc[0,1])\n",
    "custom_sentences = list(custom_sentences.sents)\n",
    "\n",
    "i=0\n",
    "for sentence in custom_sentences:\n",
    "    print('**SPACE', i, '**', sentence)\n",
    "    i +=1\n",
    "#nlp_pt = spacy.load('pt_core_news_sm')"
   ]
  },
  {
   "cell_type": "code",
   "execution_count": 50,
   "metadata": {},
   "outputs": [],
   "source": [
    "text_nometa = custom_sentences[1]"
   ]
  },
  {
   "cell_type": "code",
   "execution_count": 51,
   "metadata": {},
   "outputs": [],
   "source": [
    "#WIP.... \n",
    "#Works for a few of the .txt files if the meta data is just at the beginning but not if there are too many large spaces (/n/n/n) or if there are spaces between the text"
   ]
  },
  {
   "cell_type": "code",
   "execution_count": null,
   "metadata": {},
   "outputs": [],
   "source": []
  },
  {
   "cell_type": "markdown",
   "metadata": {},
   "source": [
    "# removing crucial metadata\n"
   ]
  },
  {
   "cell_type": "code",
   "execution_count": null,
   "metadata": {},
   "outputs": [],
   "source": []
  },
  {
   "cell_type": "code",
   "execution_count": 52,
   "metadata": {},
   "outputs": [],
   "source": [
    "#import sys\n",
    "#!{sys.executable} -m pip install -U spacy\n",
    "#!{sys.executable} -m  spacy download pt_core_news_sm"
   ]
  },
  {
   "cell_type": "code",
   "execution_count": 53,
   "metadata": {},
   "outputs": [],
   "source": [
    "import pt_core_news_sm\n",
    "import spacy\n",
    "#nlp = pt_core_news_sm.load()\n",
    "spacy_nlp = spacy.load('pt_core_news_sm')"
   ]
  },
  {
   "cell_type": "code",
   "execution_count": 54,
   "metadata": {},
   "outputs": [],
   "source": [
    "#author names to remove them from metadata\n",
    "authors = [\"José de Almada Negreiros\", \"José de ALMADA-NEGREIROS\", \"JOSÉ DE ALMADA-NEGREIROS\", \"Almada Negreiros\", \"Camilo Castelo Branco\", \"CAMILLO CASTELLO BRANCO\", \"Eça de Queirós\", \"Eca de Queiros\", \"José Rodrigues dos Santos\",\"Jose Rodrigues dos Santos\", \"JOSÉ RODRIGUES DOS SANTOS\", \"José Saramago\", \"Jose Saramago\", \"JoSÉ SaRamago\", \"Luísa Marques Silva\", \"Luisa Marques Silva\", \"Luísa Marques da Silva\"]  \n",
    "\n",
    "    "
   ]
  },
  {
   "cell_type": "code",
   "execution_count": 55,
   "metadata": {},
   "outputs": [
    {
     "data": {
      "text/html": [
       "<div>\n",
       "<style scoped>\n",
       "    .dataframe tbody tr th:only-of-type {\n",
       "        vertical-align: middle;\n",
       "    }\n",
       "\n",
       "    .dataframe tbody tr th {\n",
       "        vertical-align: top;\n",
       "    }\n",
       "\n",
       "    .dataframe thead th {\n",
       "        text-align: right;\n",
       "    }\n",
       "</style>\n",
       "<table border=\"1\" class=\"dataframe\">\n",
       "  <thead>\n",
       "    <tr style=\"text-align: right;\">\n",
       "      <th></th>\n",
       "      <th>Eça de Queirós</th>\n",
       "      <th>Camilo Castelo Branco</th>\n",
       "      <th>Almada Negreiros</th>\n",
       "      <th>Saramago</th>\n",
       "      <th>José Rodrigues dos Santos</th>\n",
       "      <th>Luísa Marques Silva</th>\n",
       "    </tr>\n",
       "  </thead>\n",
       "  <tbody>\n",
       "    <tr>\n",
       "      <td>0</td>\n",
       "      <td>O Mistério da Estrada de Sintra</td>\n",
       "      <td>Anátema</td>\n",
       "      <td>O Moinho</td>\n",
       "      <td>Terra do Pecado</td>\n",
       "      <td>Comunicação, Difusão Cultural, 1992; Prefácio</td>\n",
       "      <td>Acabou-se!</td>\n",
       "    </tr>\n",
       "    <tr>\n",
       "      <td>1</td>\n",
       "      <td>O Crime do Padre Amaro</td>\n",
       "      <td>Os Mistérios de Lisboa</td>\n",
       "      <td>Os Outros</td>\n",
       "      <td>Manual de Pintura e Caligrafia</td>\n",
       "      <td>Crónicas de Guerra I - Da Crimeia a Dachau</td>\n",
       "      <td>Sete Histórias por Acontecer</td>\n",
       "    </tr>\n",
       "    <tr>\n",
       "      <td>2</td>\n",
       "      <td>A Tragédia da Rua das Flores</td>\n",
       "      <td>A Filha do Arcediago</td>\n",
       "      <td>23, 2º Andar</td>\n",
       "      <td>Levantado do Chão</td>\n",
       "      <td>Crónicas de Guerra II - De Saigão a Bagdade</td>\n",
       "      <td>e-Medo</td>\n",
       "    </tr>\n",
       "  </tbody>\n",
       "</table>\n",
       "</div>"
      ],
      "text/plain": [
       "                    Eça de Queirós   Camilo Castelo Branco Almada Negreiros  \\\n",
       "0  O Mistério da Estrada de Sintra                 Anátema         O Moinho   \n",
       "1           O Crime do Padre Amaro  Os Mistérios de Lisboa        Os Outros   \n",
       "2     A Tragédia da Rua das Flores    A Filha do Arcediago    23, 2º Andar    \n",
       "\n",
       "                         Saramago  \\\n",
       "0                 Terra do Pecado   \n",
       "1  Manual de Pintura e Caligrafia   \n",
       "2               Levantado do Chão   \n",
       "\n",
       "                       José Rodrigues dos Santos           Luísa Marques Silva  \n",
       "0  Comunicação, Difusão Cultural, 1992; Prefácio                    Acabou-se!  \n",
       "1     Crónicas de Guerra I - Da Crimeia a Dachau  Sete Histórias por Acontecer  \n",
       "2    Crónicas de Guerra II - De Saigão a Bagdade                        e-Medo  "
      ]
     },
     "execution_count": 55,
     "metadata": {},
     "output_type": "execute_result"
    }
   ],
   "source": [
    "#book names to stop words\n",
    "import pandas as pd\n",
    "authorsandbooks = pd.read_excel('Data/AuthorsAndBooks.xlsx')\n",
    "authorsandbooks.head(3)"
   ]
  },
  {
   "cell_type": "code",
   "execution_count": 56,
   "metadata": {},
   "outputs": [],
   "source": [
    "#authors work to arrays\n",
    "\n",
    "# Eça Queirós books\n",
    "Eca = authorsandbooks['Eça de Queirós']\n",
    "Eca = Eca.dropna()\n",
    "Eca = pd.array(Eca)\n",
    "\n",
    "\n",
    "#Camilo Castelo Branco books\n",
    "camilo = authorsandbooks['Camilo Castelo Branco']\n",
    "camilo = camilo.dropna()\n",
    "camilo = pd.array(camilo)\n",
    "\n",
    "\n",
    "# Almada Negreiros books\n",
    "Almada = authorsandbooks['Almada Negreiros']\n",
    "Almada = Almada.dropna()\n",
    "Almada = pd.array(Almada)\n",
    "\n",
    "\n",
    "# Saramago books\n",
    "Saramago = authorsandbooks['Saramago']\n",
    "Saramago = Saramago.dropna()\n",
    "Saramago = pd.array(Saramago)\n",
    "\n",
    "\n",
    "# José Rodrigues dos Santos books\n",
    "JRodriguesSantos = authorsandbooks['José Rodrigues dos Santos']\n",
    "JRodriguesSantos = JRodriguesSantos.dropna()\n",
    "JRodriguesSantos = pd.array(JRodriguesSantos)\n",
    "\n",
    "\n",
    "# Luísa Marques Silva books\n",
    "luisaMarquesSilva = authorsandbooks['Luísa Marques Silva']\n",
    "luisaMarquesSilva = luisaMarquesSilva.dropna()\n",
    "luisaMarquesSilva = pd.array(luisaMarquesSilva)"
   ]
  },
  {
   "cell_type": "code",
   "execution_count": null,
   "metadata": {},
   "outputs": [],
   "source": []
  },
  {
   "cell_type": "code",
   "execution_count": 57,
   "metadata": {},
   "outputs": [],
   "source": [
    "import re\n",
    "from tqdm import tqdm_notebook as tqdm #progressbar\n",
    "\n",
    "def removemetadata(doc):\n",
    "    processed_corpus = []\n",
    "    for i in tqdm(range(len(doc))):\n",
    "        text = doc['text'].iloc[i,]\n",
    "        for w in authors:\n",
    "            text = re.sub(w,\"\",text)\n",
    "        for x in Eca:\n",
    "            text = re.sub(x,\"\",text)\n",
    "        for t in camilo:\n",
    "            text = re.sub(t,\"\",text)\n",
    "        for s in Almada:\n",
    "            text = re.sub(s,\"\",text)\n",
    "        for y in Saramago:\n",
    "            text = re.sub(y,\"\",text)\n",
    "        for n in JRodriguesSantos:\n",
    "            text = re.sub(n,\"\",text)\n",
    "        for m in luisaMarquesSilva:\n",
    "            text = re.sub(m,\"\",text)\n",
    "        processed_corpus.append(text)\n",
    "    return processed_corpus"
   ]
  },
  {
   "cell_type": "code",
   "execution_count": 58,
   "metadata": {},
   "outputs": [
    {
     "data": {
      "application/vnd.jupyter.widget-view+json": {
       "model_id": "c9544f60902741ccabebc49da0c256d9",
       "version_major": 2,
       "version_minor": 0
      },
      "text/plain": [
       "HBox(children=(IntProgress(value=0, max=63), HTML(value='')))"
      ]
     },
     "metadata": {},
     "output_type": "display_data"
    },
    {
     "name": "stdout",
     "output_type": "stream",
     "text": [
      "\n"
     ]
    }
   ],
   "source": [
    "#create a column to test the results of removing crucial metadata text\n",
    "traindf['removeMetadata'] = removemetadata(traindf)"
   ]
  },
  {
   "cell_type": "code",
   "execution_count": 59,
   "metadata": {},
   "outputs": [
    {
     "data": {
      "text/html": [
       "<div>\n",
       "<style scoped>\n",
       "    .dataframe tbody tr th:only-of-type {\n",
       "        vertical-align: middle;\n",
       "    }\n",
       "\n",
       "    .dataframe tbody tr th {\n",
       "        vertical-align: top;\n",
       "    }\n",
       "\n",
       "    .dataframe thead th {\n",
       "        text-align: right;\n",
       "    }\n",
       "</style>\n",
       "<table border=\"1\" class=\"dataframe\">\n",
       "  <thead>\n",
       "    <tr style=\"text-align: right;\">\n",
       "      <th></th>\n",
       "      <th>id</th>\n",
       "      <th>text</th>\n",
       "      <th>author</th>\n",
       "      <th>removeMetadata</th>\n",
       "    </tr>\n",
       "  </thead>\n",
       "  <tbody>\n",
       "    <tr>\n",
       "      <td>0</td>\n",
       "      <td>AlmadaNegreiros0.txt</td>\n",
       "      <td>Title: A Scena do Odio\\n\\nAuthor: José de Alma...</td>\n",
       "      <td>AN</td>\n",
       "      <td>Title: \\n\\nAuthor: \\n\\nRelease Date: September...</td>\n",
       "    </tr>\n",
       "    <tr>\n",
       "      <td>1</td>\n",
       "      <td>AlmadaNegreiros1.txt</td>\n",
       "      <td>Title: O Jardim da Pierrette\\n\\nAuthor: José d...</td>\n",
       "      <td>AN</td>\n",
       "      <td>Title: \\n\\nAuthor: \\n\\nRelease Date: September...</td>\n",
       "    </tr>\n",
       "    <tr>\n",
       "      <td>2</td>\n",
       "      <td>AlmadaNegreiros2.txt</td>\n",
       "      <td>\\n\\nTitle: A Invenção do Dia Claro\\n\\nAuthor: ...</td>\n",
       "      <td>AN</td>\n",
       "      <td>\\n\\nTitle: \\n\\nAuthor: \\n\\nRelease Date: Septe...</td>\n",
       "    </tr>\n",
       "    <tr>\n",
       "      <td>3</td>\n",
       "      <td>AlmadaNegreiros3.txt</td>\n",
       "      <td>\\nTitle: Litoral\\n       A Amadeo de Souza Car...</td>\n",
       "      <td>AN</td>\n",
       "      <td>\\nTitle: \\n       \\n\\nAuthor: \\n\\nContributor:...</td>\n",
       "    </tr>\n",
       "    <tr>\n",
       "      <td>4</td>\n",
       "      <td>AlmadaNegreiros4.txt</td>\n",
       "      <td>\\n\\n\\nEXPOSIÇÃO\\n\\n+amadeo\\nde souza\\ncardoso+...</td>\n",
       "      <td>AN</td>\n",
       "      <td>\\n\\n\\nEXPOSIÇÃO\\n\\n+amadeo\\nde souza\\ncardoso+...</td>\n",
       "    </tr>\n",
       "  </tbody>\n",
       "</table>\n",
       "</div>"
      ],
      "text/plain": [
       "                     id                                               text  \\\n",
       "0  AlmadaNegreiros0.txt  Title: A Scena do Odio\\n\\nAuthor: José de Alma...   \n",
       "1  AlmadaNegreiros1.txt  Title: O Jardim da Pierrette\\n\\nAuthor: José d...   \n",
       "2  AlmadaNegreiros2.txt  \\n\\nTitle: A Invenção do Dia Claro\\n\\nAuthor: ...   \n",
       "3  AlmadaNegreiros3.txt  \\nTitle: Litoral\\n       A Amadeo de Souza Car...   \n",
       "4  AlmadaNegreiros4.txt  \\n\\n\\nEXPOSIÇÃO\\n\\n+amadeo\\nde souza\\ncardoso+...   \n",
       "\n",
       "  author                                     removeMetadata  \n",
       "0     AN  Title: \\n\\nAuthor: \\n\\nRelease Date: September...  \n",
       "1     AN  Title: \\n\\nAuthor: \\n\\nRelease Date: September...  \n",
       "2     AN  \\n\\nTitle: \\n\\nAuthor: \\n\\nRelease Date: Septe...  \n",
       "3     AN  \\nTitle: \\n       \\n\\nAuthor: \\n\\nContributor:...  \n",
       "4     AN  \\n\\n\\nEXPOSIÇÃO\\n\\n+amadeo\\nde souza\\ncardoso+...  "
      ]
     },
     "execution_count": 59,
     "metadata": {},
     "output_type": "execute_result"
    }
   ],
   "source": [
    "traindf.head()"
   ]
  },
  {
   "cell_type": "code",
   "execution_count": 60,
   "metadata": {},
   "outputs": [],
   "source": [
    "doc = spacy_nlp(test.at[0,'text'])\n",
    "tokens = [token.text for token in doc if not token.is_stop]"
   ]
  },
  {
   "cell_type": "code",
   "execution_count": 61,
   "metadata": {},
   "outputs": [
    {
     "name": "stdout",
     "output_type": "stream",
     "text": [
      "Original Article: Title: A Scena do Odio\n",
      "\n",
      "Author: José de Almada Negreiros\n",
      "\n",
      "Release Date: September 16, 2007 [EBook #22615]\n",
      "\n",
      "Language: Portuguese\n",
      "\n",
      "\n",
      "\n",
      "\n",
      "A ALVARO DE CAMPOS\n",
      "\n",
      "_Excerptos de um poema desbaratado\n",
      "que foi escripto durante os\n",
      "três dias e as três noites que durou\n",
      "a revolução de 14 de Maio de 1915._\n",
      "\n",
      "\n",
      "Satanizo-Me Tara na Vara de Moysés!\n",
      "O castigo das serpentes é-Me riso nos dentes,\n",
      "Inferno a arder o Meu cantar!\n",
      "Sou Vermelho-Niagára dos sexos escancarados nos chicotes dos cossacos!\n",
      "Sou Pan-Demonio-Trifauce enfermiço de Gula!\n",
      "Sou Genio de Zarathustra em Taças de Maré-Alta!\n",
      "Sou Raiva de Medusa e Damnação do Sol!\n",
      "\n",
      "Ladram-Me a Vida por vivê-La\n",
      "e só me deram Uma!\n",
      "Hão-de lati-La por sina!\n",
      "agora quero vivê-La!\n",
      "Hei-de Poeta cantá-La em Gala sonora e dina!\n",
      "Hei-de Gloria desannuviá-La!\n",
      "Hei-de Guindaste içá-La Esfinge\n",
      "da Valla commum onde Me querem rir!\n",
      "Hei-de trovão-clarim levá-La Luz\n",
      "ás Almas-Noites do Jardim das Lagrymas!\n",
      "Hei-de bombo rufá-La pompa de Pompeia\n",
      "nos Funeraes de Mim!\n",
      "Hei-de Alfange-Mahoma\n",
      "cantar Sodoma na Voz de Nero!\n",
      "Hei-de ser Fuas sem Virgem do Milagre,\n",
      "hei-de ser galope opiado e doido, opiado e doido...,\n",
      "hei-de ser Attila, hei-de Nero, hei-de Eu,\n",
      "cantar Attila, cantar Nero, cantar Eu!\n",
      "\n",
      "Sou throno de Abandono, mal-fadado,\n",
      "nas iras dos barbaros, meus Avós.\n",
      "Oiço ainda da Berlinda d'Eu ser sina\n",
      "gemidos vencidos de fracos,\n",
      "ruidos famintos de saque,\n",
      "ais distantes de Maldição eterna em Voz antiga!\n",
      "Sou ruinas razas, innocentes\n",
      "como as azas de rapinas afogadas.\n",
      "Sou reliquias de martyres impotentes\n",
      "sequestradas em antros do Vicio e da Virtude.\n",
      "Sou clausura de Sancta professa,\n",
      "Mãe exilada do Mal,\n",
      "Hostia d'Angustia no Claustro,\n",
      "freira demente e donzella,\n",
      "virtude sosinha da cella\n",
      "em penitencia do sexo!\n",
      "Sou rasto espesinhado d'Invasores\n",
      "que cruzaram o meu sangue, desvirgando-o.\n",
      "Sou a Raiva atavica dos Tavoras,\n",
      "o sangue bastardo de Nero,\n",
      "o odio do ultimo instante\n",
      "do condemnado innocente!\n",
      "A podenga do Limbo mordeu raivosa\n",
      "as pernas nuas da minh'Alma sem baptismo...\n",
      "Ah! que eu sinto, claramente, que nasci\n",
      "de uma praga de ciumes!\n",
      "Eu sou as sete pragas sobre o Nylo\n",
      "e a Alma dos Borgias a penar!\n",
      "\n",
      "E eu vivo aqui desterrado e Job\n",
      "da Vida-gemea d'Eu ser feliz!\n",
      "E eu vivo aqui sepultado vivo\n",
      "na Verdade de nunca ser Eu!\n",
      "Sou apenas o Mendigo de Mim-Proprio,\n",
      "orphão da Virgem do meu sentir.\n",
      "\n",
      "(Pezam kilos no Meu querer\n",
      "as salas-de-espera de Mim.\n",
      "Tu chegas sempre primeiro...\n",
      "Eu volto sempre amanhã...\n",
      "Agora vou esperar que morras.\n",
      "Mas tu és tantos que não morres...\n",
      "Vou deixar d'esp'rar que morras\n",
      "--Vou deixar d'esp'rar por Mim?!...)\n",
      "\n",
      "Ah! que eu sinto, claramente, que nasci\n",
      "de uma praga de ciumes!\n",
      "Eu sou as sete pragas sobre o Nylo\n",
      "e a Alma dos Borgias a penar!\n",
      "\n",
      "Hei-de, entretanto, gastar a garganta\n",
      "a insultar-te, ó bêsta!\n",
      "Hei-de morder-te a ponta do rabo\n",
      "e pôr-te as mãos no chão, no seu logar!\n",
      "Ahi! Saltímbanco-bando de bandoleiros nefastos!\n",
      "Quadrilheiros contrabandistas da Imbecilidade!\n",
      "Ahi! Espelho-aleijão do Sentimento,\n",
      "macaco-intruja do Alma-realejo!\n",
      "Ahi! maquerelle da Ignorancia!\n",
      "Silenceur do Genio-Tempestade!\n",
      "Spleen da Indigestão!\n",
      "Ahi! meia-tijella, travão das Ascensões!\n",
      "Ahi! povo judeu dos Christos mais que Christo!\n",
      "Ó burguezia! ó ideal com i pequeno!\n",
      "Ó ideal rocócó dos Mendes e Possidonios!\n",
      "Ó cofre d'indigentes\n",
      "cuja personalidade é a moral de todos!\n",
      "Ó geral da mediocridade!\n",
      "Ó claque ignobil do vulgar, protagonista do normal!\n",
      "Ó catitismo das lindezas d'estalo!\n",
      "Ahi! lucro do facil,\n",
      "cartilha-cabotina dos limitados, dos restringidos!\n",
      "Ahi! dique impecilho do Canal da Luz!\n",
      "Ó coito d'impotentes\n",
      "a corar ao sol no riacho da Estupidez!\n",
      "Ahi! Zero-barometro da Convicção!\n",
      "bitola dos chega, dos basta, dos não quero mais!\n",
      "Ahi! plebeismo aristocratisado no preço do panamá!\n",
      "erudição de calça de xadrez!\n",
      "competencia de relogio d'oiro\n",
      "e corrente com suores do Brazil\n",
      "e berloques de cornos de buffalo!\n",
      "\n",
      "Zutt! bruto-parvo-nada\n",
      "que Me roubaste tudo:\n",
      "'té Me roubaste a Vida\n",
      "e não Me deixaste nada!\n",
      "nem Me deixaste a Morte!\n",
      "Zutt! poeira-pingo-microbio\n",
      "que gemes pequenissimo gemidos gigantes,\n",
      "gravido de uma dôr profeta colossal!\n",
      "Zutt! elefante-berloque parasita do não presta!\n",
      "Zutt! bugiganga-celluloide-bagatella!\n",
      "Zutt! bêsta!\n",
      "Zutt! bácoro!!\n",
      "Zutt! merda!!!\n",
      "\n",
      "E tu, tambem, vieille-roche, castello medieval\n",
      "fechado por dentro das tuas ruinas!\n",
      "Fiel epitaphio das cronicas aduladoras!\n",
      "E tu tambem, ó sangue azul antigo\n",
      "que já nasceste co'a biographia feita!\n",
      "Ó pagem loiro das cortezias-avozinhas!\n",
      "Ó pergaminho amarello-mumia\n",
      "das grandes galas brancas das paradas\n",
      "e das victorias dos torneios-loterias\n",
      "com donzellas-glorias!\n",
      "Ó resto de sceptros, fumo de cinzas!\n",
      "Ó lavas frias do vulcão pyrotechnico\n",
      "com chuvas d'oiros e cabeleiras prateadas!\n",
      "Ó estilhaços heraldicos de vitraes\n",
      "despegados lentamente sobre o tanque do silencio!\n",
      "Ó cedro secular\n",
      "debruçado no muro da Quinta sobre a estrada\n",
      "a estorvar o caminho da Mala-posta!\n",
      "\n",
      "E vós tambem, ó Gentes de Pensamento,\n",
      "ó Personalidades, ó Homens!\n",
      "Artistas de todas as partes, cristãos sem patria,\n",
      "Christos vencidos por serem só Um!\n",
      "E vós, ó Genios da Expressão,\n",
      "e vós tambem, ó Genios sem Voz!\n",
      "Ó alem-infinito sem regressos, sem nostalgias,\n",
      "Espectadores gratuitos do Drama-Imenso de Vós-Mesmos!\n",
      "Prophetas cladestinos\n",
      "do Naufragio de Vossos Destinos!\n",
      "\n",
      "E vos tambem, theoricos-irmãos-gemeos\n",
      "do meu sentir internacional!\n",
      "Ó escravos da Independencia!\n",
      "\n",
      "E tu tambem, Belleza Canalha\n",
      "co'a sensibilidade manchada de vinho!\n",
      "O lyrio bravo da Floresta-Ardida\n",
      "á meia-porta da tua Miseria!\n",
      "Ó Fado da Má-Sina\n",
      "com illustrações a giz\n",
      "e lettra da Maldição!\n",
      "Ó féra vadia das viellas açaimada na Lei!\n",
      "O chale e lenço a resguardar a tysica!\n",
      "Ó franzinas do fanico\n",
      "co'a syphilis ao collo por essas esquinas!\n",
      "Ó nu d'aluguer\n",
      "na meia-luz dos cortinados corridos!\n",
      "Ó oratorio da meretriz a mendigar gorgetas\n",
      "pr'á sua Senhora da Boa-Sorte!\n",
      "Ó gentes tatuadas do calão!\n",
      "Ó carro vendado da Penitenciaria!\n",
      "\n",
      "E tu tambem, ó Humilde, ó Símples!\n",
      "enjaulados na vossa Ignorancia!\n",
      "Ó pé descalço a callejar o cerebro!\n",
      "Ó musculos da saude de ter fechada a casa de pensar!\n",
      "Ó alguidar de assôrda fria\n",
      "na ceia-fadiga da dôr-candeia!\n",
      "Ó esteiras duras pr'a dormir e fazer filhos!\n",
      "Ó carretas da Voz do Operario\n",
      "com gente de preto a pé e philarmonica atraz!\n",
      "Ó campas razas engrinaldadas,\n",
      "com chapões de ferro e balões de vidro!\n",
      "Ó bota rôta de mendingo abandonada no pó do caminho!\n",
      "Ó metamorphose-selvagem das feras da cidade!\n",
      "Ó geração de bons ladrões crucificados na Estupidez!\n",
      "\n",
      "Ó sanfona-saloia do fandango dos campinos!\n",
      "Ó pampilho das Lezirias innundadas de Cidade!\n",
      "\n",
      "E vós varinas que sabeis a sal\n",
      "e que trazeis o Mar no vosso avental!\n",
      "\n",
      "E vós tambem, ó moças da Provincia\n",
      "que trazeis o verde dos campos\n",
      "no vermelho das faces pintadas.\n",
      "\n",
      "E tu tambem ó mau gosto\n",
      "co'a saia de baixo a vêr-se\n",
      "e a falta d'educação!\n",
      "Ó oiro de pechisbegue (esperteza dos ciganos)\n",
      "a luzir no vermelho verdadeiro da blusa de chita!\n",
      "Ó tedio do domingo com botas novas\n",
      "e musica n'Avenida!\n",
      "Ó sancta Virgindade\n",
      "a garantir a falta de lindeza!\n",
      "Ó bilhete postal illustrado\n",
      "com apparições de beijos ao lado!\n",
      "\n",
      "Ó Arsenal-fadista de ganga azul e côco socialista!\n",
      "Ó sahidas pôr-do-sol das Fabricas d'Agonia!\n",
      "\n",
      "E vós tambem, nojentos da Politica\n",
      "que exploraes eleitos o Patriotismo!\n",
      "Maquereaux da Patria que vos pariu...\n",
      "\n",
      "E vós tambem, pindericos jornalistas\n",
      "que fazeis cocegas e outras coisas\n",
      "á opinião publica!\n",
      "\n",
      "E tu tambem, roberto fardado:\n",
      "Futrica-te espantalho engalonado,\n",
      "apeia-te das patas de barro,\n",
      "larga a espada de matar\n",
      "e põe o penacho no rabo!\n",
      "Rálha-te mercenario, asceta da Crueldade!\n",
      "Espuma-te no chumbo da tua Valentia!\n",
      "Agoniza-te Rilhafolles armado!\n",
      "Desuniversidadiza-te da doutorança da chacina,\n",
      "da sciencia da matança!\n",
      "Groom fardado da Nêgra,\n",
      "pária da Velha!\n",
      "Encaveira-te nas espóras luzidias de sêres fera!\n",
      "Despe-te da farda,\n",
      "desenfia-te da Impostura, e põe te nu, ao léu\n",
      "que ficas desempregado!\n",
      "Acouraça-te de Senso,\n",
      "vomita de vez o morticinio,\n",
      "enche o pote de raciocinio,\n",
      "aprende a lêr corações,\n",
      "que ha muito mais que fazer\n",
      "do que fazer revoluções!\n",
      "Rebusca no sêres selvagem,\n",
      "no teu cofre do exterminio\n",
      "o teu calibre maximo!\n",
      "acaba de vez com este planeta,\n",
      "faze-te Deus do Mundo em dar-lhe fim!\n",
      "(Ha tanta coisa que fazer, Meu Deus!\n",
      "e esta gente distrahida em guerras!)\n",
      "\n",
      "Olha os que não são nada por te cantarem a ti!\n",
      "tantos mundos!\n",
      "tantos genios\n",
      "que não fizeram nada,\n",
      "que deixaram este mundo tal qual!\n",
      "Olha os grandes o que são, estragados por ti!\n",
      "E de que serve o livro e a sciencia\n",
      "se a experiencia da vida\n",
      "é que faz comprehender a sciencia e o livro?\n",
      "Antes não ter sciencias!\n",
      "Antes não ter livros!\n",
      "\n",
      "Larga a cidade masturbadora, febril,\n",
      "rabo decepado de lagartixa,\n",
      "labyrintho cego de toupeiras,\n",
      "raça de ignobeis myopes, tysicos, tarados,\n",
      "anemicos, cancerosos e arseniados!\n",
      "Larga a cidade!\n",
      "Larga a infamia das ruas e dos boulevards,\n",
      "esse vae-vem cynico de bandidos mudos,\n",
      "esse mexer esponjoso de carne viva,\n",
      "esse sêr-lêsma nojento e macabro,\n",
      "essess zig-zag de chicote auto-fustigante,\n",
      "esse ar expirado e espiritista,\n",
      "esse Inferno de Dante por cantar,\n",
      "esse ruido de sol prostituido, impotente e velho,\n",
      "esse silencio pneumonico\n",
      "de lua enxovalhada sem vir a lavadeira!\n",
      "\n",
      "Larga a cidade e foge!\n",
      "Larga a cidade!\n",
      "Mas larga tudo primeiro, ouviste?\n",
      "Larga tudo!\n",
      "--Os outros, os sentimentos, os instinctos,\n",
      "e larga-te a ti tambem, a ti principalmente!\n",
      "Larga tudo e vae para o campo\n",
      "e larga o campo tambem!\n",
      "--Põe-te a nascer outra vez!\n",
      "Não queiras ter pae nem mãe,\n",
      "não queiras ter outros, nem Intelligencia!\n",
      "E já houve Intelligencia a mais: pode parar por aqui!\n",
      "Depois põe-te a viver sem cabeça,\n",
      "vê só o que os olhos virem,\n",
      "cheira os cheiros da Terra,\n",
      "come o que a Terra dér,\n",
      "bebe dos rios e dos mares,\n",
      "--põe-te na Natureza!\n",
      "\n",
      "Mas tu nem vives, nem deixas viver os mais,\n",
      "Crápula do Egoismo, cartola d'espanta-pardaes!\n",
      "Mas has-de pagar-Me a febre-rodopio\n",
      "novêllo emmaranhado da minha dôr!\n",
      "Mas has-de pagar-Me a febre-calafrio\n",
      "abysmo descida de Eu não querer descer!\n",
      "Has-de pagar-Me o Absyntho e a Morfina!\n",
      "Hei-de ser cigana da tua sina!\n",
      "Hei-de ser a bruxa do teu remorso!\n",
      "Hei-de desforra-dôr cantar-te a buena-dicha\n",
      "em aguas-fortes de Goya\n",
      "e no cavallo de Troya\n",
      "e nos poemas de Poë!\n",
      "Hei-de feiticeira a gallope na vassoira\n",
      "largar-te os meus lagartos e a Peçônha!\n",
      "Hei-de vara magica encantar-te arte de ganir!\n",
      "Hei-de reconstruir em ti a escravatura nêgra!\n",
      "Hei-de despir-te a pelle a pouco e pouco\n",
      "e depois na carne viva deitar fel,\n",
      "e depois na carne viva semear vidros,\n",
      "semear gúmes,\n",
      "lúmes,\n",
      "e tiros!\n",
      "Hei-de gosar em ti as póses diabolicas\n",
      "dos theatraes venenos tragicos da persa Zoroastro!\n",
      "Hei-de rasgar-te as vrilhas com forquilhas e croques,\n",
      "e desfraldar-te nas canellas mirradas\n",
      "o nêgro pendão dos piratas!\n",
      "Hei-de corvo marinho beber-te os olhos vêsgos!\n",
      "Hei-de boia do Destino ser em braza\n",
      "e tu naufrago das galés sem horizontes verdes!\n",
      "\n",
      "Ah que eu sinto claramente que nasci\n",
      "de uma praga de ciumes!\n",
      "Eu sou as sete pragas sobre o Nylo\n",
      "e a alma dos Borgias a penar!\n",
      "\n",
      "\n",
      "\n",
      "\n",
      "['Title', ':', 'A', 'Scena', 'Odio', '\\n\\n', 'Author', ':', 'José', 'Almada', 'Negreiros', '\\n\\n', 'Release', 'Date', ':', 'September', '16', ',', '2007', '[', 'EBook', '#', '22615', ']', '\\n\\n', 'Language', ':', 'Portuguese', '\\n\\n\\n\\n\\n', 'A', 'ALVARO', 'CAMPOS', '\\n\\n', '_', 'Excerptos', 'poema', 'desbaratado', '\\n', 'escripto', 'durante', '\\n', 'dias', 'e', 'noites', 'durou', '\\n', 'a', 'revolução', '14', 'Maio', '1915', '.', '_', '\\n\\n\\n', 'Satanizo-Me', 'Tara', 'Vara', 'Moysés', '!', '\\n', 'O', 'castigo', 'serpentes', 'é-Me', 'riso', 'dentes', ',', '\\n', 'Inferno', 'a', 'arder', 'o', 'cantar', '!', '\\n', 'Vermelho-Niagára', 'sexos', 'escancarados', 'chicotes', 'cossacos', '!', '\\n', 'Pan-Demonio-Trifauce', 'enfermiço', 'Gula', '!', '\\n', 'Genio', 'Zarathustra', 'Taças', 'Maré-Alta', '!', '\\n', 'Raiva', 'Medusa', 'e', 'Damnação', 'Sol', '!', '\\n\\n', 'Ladram-Me', 'a', 'Vida', 'vivê-La', '\\n', 'e', 'deram', '!', '\\n', 'Hão-de', 'lati-La', 'sina', '!', '\\n', 'vivê-La', '!', '\\n', 'Hei-de', 'Poeta', 'cantá-La', 'Gala', 'sonora', 'e', 'dina', '!', '\\n', 'Hei-de', 'Gloria', 'desannuviá-La', '!', '\\n', 'Hei-de', 'Guindaste', 'içá-La', 'Esfinge', '\\n', 'Valla', 'commum', 'rir', '!', '\\n', 'Hei-de', 'trovão-clarim', 'levá-La', 'Luz', '\\n', 'ás', 'Almas-Noites', 'Jardim', 'Lagrymas', '!', '\\n', 'Hei-de', 'bombo', 'rufá-La', 'pompa', 'Pompeia', '\\n', 'Funeraes', 'Mim', '!', '\\n', 'Hei-de', 'Alfange-Mahoma', '\\n', 'cantar', 'Sodoma', 'Voz', 'Nero', '!', '\\n', 'Hei-de', 'Fuas', 'Virgem', 'Milagre', ',', '\\n', 'hei-de', 'galope', 'opiado', 'e', 'doido', ',', 'opiado', 'e', 'doido', '...', ',', '\\n', 'hei-de', 'Attila', ',', 'hei-de', 'Nero', ',', 'hei-de', ',', '\\n', 'cantar', 'Attila', ',', 'cantar', 'Nero', ',', 'cantar', '!', '\\n\\n', 'throno', 'Abandono', ',', 'mal-fadado', ',', '\\n', 'iras', 'barbaros', ',', 'Avós', '.', '\\n', 'Oiço', 'Berlinda', \"d'Eu\", 'sina', '\\n', 'gemidos', 'vencidos', 'fracos', ',', '\\n', 'ruidos', 'famintos', 'saque', ',', '\\n', 'ais', 'distantes', 'Maldição', 'eterna', 'Voz', 'antiga', '!', '\\n', 'ruinas', 'razas', ',', 'innocentes', '\\n', 'azas', 'rapinas', 'afogadas', '.', '\\n', 'reliquias', 'martyres', 'impotentes', '\\n', 'sequestradas', 'antros', 'Vicio', 'e', 'Virtude', '.', '\\n', 'clausura', 'Sancta', 'professa', ',', '\\n', 'Mãe', 'exilada', ',', '\\n', 'Hostia', \"d'Angustia\", 'Claustro', ',', '\\n', 'freira', 'demente', 'e', 'donzella', ',', '\\n', 'virtude', 'sosinha', 'cella', '\\n', 'penitencia', 'sexo', '!', '\\n', 'rasto', 'espesinhado', \"d'Invasores\", '\\n', 'cruzaram', 'o', 'sangue', ',', 'desvirgando-o', '.', '\\n', 'a', 'Raiva', 'atavica', 'Tavoras', ',', '\\n', 'o', 'sangue', 'bastardo', 'Nero', ',', '\\n', 'o', 'odio', 'ultimo', 'instante', '\\n', 'condemnado', 'innocente', '!', '\\n', 'A', 'podenga', 'Limbo', 'mordeu', 'raivosa', '\\n', 'pernas', 'nuas', \"minh'Alma\", 'baptismo', '...', '\\n', 'Ah', '!', 'sinto', ',', 'claramente', ',', 'nasci', '\\n', 'praga', 'ciumes', '!', '\\n', 'pragas', 'o', 'Nylo', '\\n', 'e', 'a', 'Alma', 'Borgias', 'a', 'penar', '!', '\\n\\n', 'E', 'vivo', 'desterrado', 'e', 'Job', '\\n', 'Vida-gemea', \"d'Eu\", 'feliz', '!', '\\n', 'E', 'vivo', 'sepultado', 'vivo', '\\n', 'Verdade', '!', '\\n', 'o', 'Mendigo', 'Mim-Proprio', ',', '\\n', 'orphão', 'Virgem', 'sentir', '.', '\\n\\n', '(', 'Pezam', 'kilos', 'querer', '\\n', 'salas-de-espera', 'Mim', '.', '\\n', 'chegas', '...', '\\n', 'volto', 'amanhã', '...', '\\n', 'vou', 'esperar', 'morras', '.', '\\n', 'tantos', 'morres', '...', '\\n', 'Vou', 'deixar', \"d'esp'rar\", 'morras', '\\n', '--Vou', 'deixar', \"d'esp'rar\", 'Mim', '?', '!', '...', ')', '\\n\\n', 'Ah', '!', 'sinto', ',', 'claramente', ',', 'nasci', '\\n', 'praga', 'ciumes', '!', '\\n', 'pragas', 'o', 'Nylo', '\\n', 'e', 'a', 'Alma', 'Borgias', 'a', 'penar', '!', '\\n\\n', 'Hei-de', ',', 'entretanto', ',', 'gastar', 'a', 'garganta', '\\n', 'a', 'insultar-te', ',', 'ó', 'bêsta', '!', '\\n', 'Hei-de', 'morder-te', 'a', 'ponta', 'rabo', '\\n', 'e', 'pôr-te', 'mãos', 'chão', ',', 'logar', '!', '\\n', 'Ahi', '!', 'Saltímbanco-bando', 'bandoleiros', 'nefastos', '!', '\\n', 'Quadrilheiros', 'contrabandistas', 'Imbecilidade', '!', '\\n', 'Ahi', '!', 'Espelho-aleijão', 'Sentimento', ',', '\\n', 'macaco-intruja', 'Alma-realejo', '!', '\\n', 'Ahi', '!', 'maquerelle', 'Ignorancia', '!', '\\n', 'Silenceur', 'Genio-Tempestade', '!', '\\n', 'Spleen', 'Indigestão', '!', '\\n', 'Ahi', '!', 'meia-tijella', ',', 'travão', 'Ascensões', '!', '\\n', 'Ahi', '!', 'judeu', 'Christos', 'Christo', '!', '\\n', 'Ó', 'burguezia', '!', 'ó', 'ideal', 'i', 'pequeno', '!', '\\n', 'Ó', 'ideal', 'rocócó', 'Mendes', 'e', 'Possidonios', '!', '\\n', 'Ó', 'cofre', \"d'indigentes\", '\\n', 'personalidade', 'a', 'moral', '!', '\\n', 'Ó', 'mediocridade', '!', '\\n', 'Ó', 'claque', 'ignobil', 'vulgar', ',', 'protagonista', 'normal', '!', '\\n', 'Ó', 'catitismo', 'lindezas', \"d'estalo\", '!', '\\n', 'Ahi', '!', 'lucro', 'facil', ',', '\\n', 'cartilha-cabotina', 'limitados', ',', 'restringidos', '!', '\\n', 'Ahi', '!', 'dique', 'impecilho', 'Canal', 'Luz', '!', '\\n', 'Ó', 'coito', \"d'impotentes\", '\\n', 'a', 'corar', 'a', 'o', 'sol', 'riacho', 'Estupidez', '!', '\\n', 'Ahi', '!', 'Zero-barometro', 'Convicção', '!', '\\n', 'bitola', 'chega', ',', 'basta', ',', '!', '\\n', 'Ahi', '!', 'plebeismo', 'aristocratisado', 'preço', 'panamá', '!', '\\n', 'erudição', 'calça', 'xadrez', '!', '\\n', 'competencia', 'relogio', \"d'oiro\", '\\n', 'e', 'suores', 'Brazil', '\\n', 'e', 'berloques', 'cornos', 'buffalo', '!', '\\n\\n', 'Zutt', '!', 'bruto-parvo-nada', '\\n', 'roubaste', ':', '\\n', \"'\", 'té', 'roubaste', 'a', 'Vida', '\\n', 'e', 'deixaste', '!', '\\n', 'deixaste', 'a', 'Morte', '!', '\\n', 'Zutt', '!', 'poeira-pingo-microbio', '\\n', 'gemes', 'pequenissimo', 'gemidos', 'gigantes', ',', '\\n', 'gravido', 'dôr', 'profeta', 'colossal', '!', '\\n', 'Zutt', '!', 'elefante-berloque', 'parasita', 'presta', '!', '\\n', 'Zutt', '!', 'bugiganga-celluloide-bagatella', '!', '\\n', 'Zutt', '!', 'bêsta', '!', '\\n', 'Zutt', '!', 'bácoro', '!', '!', '\\n', 'Zutt', '!', 'merda', '!', '!', '!', '\\n\\n', 'E', ',', 'tambem', ',', 'vieille-roche', ',', 'castello', 'medieval', '\\n', 'fechado', 'ruinas', '!', '\\n', 'Fiel', 'epitaphio', 'cronicas', 'aduladoras', '!', '\\n', 'E', 'tambem', ',', 'ó', 'sangue', 'azul', 'antigo', '\\n', 'nasceste', \"co'a\", 'biographia', 'feita', '!', '\\n', 'Ó', 'pagem', 'loiro', 'cortezias-avozinhas', '!', '\\n', 'Ó', 'pergaminho', 'amarello-mumia', '\\n', 'galas', 'brancas', 'paradas', '\\n', 'e', 'victorias', 'torneios-loterias', '\\n', 'donzellas-glorias', '!', '\\n', 'Ó', 'resto', 'sceptros', ',', 'fumo', 'cinzas', '!', '\\n', 'Ó', 'lavas', 'frias', 'vulcão', 'pyrotechnico', '\\n', 'chuvas', \"d'oiros\", 'e', 'cabeleiras', 'prateadas', '!', '\\n', 'Ó', 'estilhaços', 'heraldicos', 'vitraes', '\\n', 'despegados', 'lentamente', 'o', 'tanque', 'silencio', '!', '\\n', 'Ó', 'cedro', 'secular', '\\n', 'debruçado', 'muro', 'a', 'estrada', '\\n', 'a', 'estorvar', 'o', 'Mala-posta', '!', '\\n\\n', 'E', 'tambem', ',', 'ó', 'Gentes', 'Pensamento', ',', '\\n', 'ó', 'Personalidades', ',', 'ó', 'Homens', '!', '\\n', 'Artistas', 'partes', ',', 'cristãos', 'patria', ',', '\\n', 'Christos', 'vencidos', 'serem', '!', '\\n', 'E', ',', 'ó', 'Genios', 'Expressão', ',', '\\n', 'e', 'tambem', ',', 'ó', 'Genios', 'Voz', '!', '\\n', 'Ó', 'alem-infinito', 'regressos', ',', 'nostalgias', ',', '\\n', 'Espectadores', 'gratuitos', 'Drama-Imenso', 'Vós-Mesmos', '!', '\\n', 'Prophetas', 'cladestinos', '\\n', 'Naufragio', 'Destinos', '!', '\\n\\n', 'E', 'tambem', ',', 'theoricos-irmãos-gemeos', '\\n', 'sentir', 'internacional', '!', '\\n', 'Ó', 'escravos', 'Independencia', '!', '\\n\\n', 'E', 'tambem', ',', 'Belleza', 'Canalha', '\\n', \"co'a\", 'sensibilidade', 'manchada', 'vinho', '!', '\\n', 'O', 'lyrio', 'bravo', 'Floresta-Ardida', '\\n', 'á', 'meia-porta', 'Miseria', '!', '\\n', 'Ó', 'Fado', 'Má-Sina', '\\n', 'illustrações', 'a', 'giz', '\\n', 'e', 'lettra', 'Maldição', '!', '\\n', 'Ó', 'féra', 'vadia', 'viellas', 'açaimada', 'Lei', '!', '\\n', 'O', 'chale', 'e', 'lenço', 'a', 'resguardar', 'a', 'tysica', '!', '\\n', 'Ó', 'franzinas', 'fanico', '\\n', \"co'a\", 'syphilis', 'a', 'o', 'collo', 'esquinas', '!', '\\n', 'Ó', 'nu', \"d'aluguer\", '\\n', 'meia-luz', 'cortinados', 'corridos', '!', '\\n', 'Ó', 'oratorio', 'meretriz', 'a', 'mendigar', 'gorgetas', '\\n', \"pr'á\", 'Senhora', 'Boa-Sorte', '!', '\\n', 'Ó', 'gentes', 'tatuadas', 'calão', '!', '\\n', 'Ó', 'carro', 'vendado', 'Penitenciaria', '!', '\\n\\n', 'E', 'tambem', ',', 'ó', 'Humilde', ',', 'ó', 'Símples', '!', '\\n', 'enjaulados', 'Ignorancia', '!', '\\n', 'Ó', 'pé', 'descalço', 'a', 'callejar', 'o', 'cerebro', '!', '\\n', 'Ó', 'musculos', 'saude', 'fechada', 'a', 'casa', 'pensar', '!', '\\n', 'Ó', 'alguidar', 'assôrda', 'fria', '\\n', 'ceia-fadiga', 'dôr-candeia', '!', '\\n', 'Ó', 'esteiras', 'duras', \"pr'a\", 'dormir', 'e', 'filhos', '!', '\\n', 'Ó', 'carretas', 'Voz', 'Operario', '\\n', 'gente', 'preto', 'a', 'pé', 'e', 'philarmonica', 'atraz', '!', '\\n', 'Ó', 'campas', 'razas', 'engrinaldadas', ',', '\\n', 'chapões', 'ferro', 'e', 'balões', 'vidro', '!', '\\n', 'Ó', 'bota', 'rôta', 'mendingo', 'abandonada', 'pó', '!', '\\n', 'Ó', 'metamorphose-selvagem', 'feras', 'cidade', '!', '\\n', 'Ó', 'geração', 'bons', 'ladrões', 'crucificados', 'Estupidez', '!', '\\n\\n', 'Ó', 'sanfona-saloia', 'fandango', 'campinos', '!', '\\n', 'Ó', 'pampilho', 'Lezirias', 'innundadas', 'Cidade', '!', '\\n\\n', 'E', 'varinas', 'sabeis', 'a', 'sal', '\\n', 'e', 'trazeis', 'o', 'Mar', 'avental', '!', '\\n\\n', 'E', 'tambem', ',', 'ó', 'moças', 'Provincia', '\\n', 'trazeis', 'o', 'verde', 'campos', '\\n', 'vermelho', 'faces', 'pintadas', '.', '\\n\\n', 'E', 'tambem', 'ó', 'mau', 'gosto', '\\n', \"co'a\", 'saia', 'a', 'vêr-se', '\\n', 'e', 'a', \"d'educação\", '!', '\\n', 'Ó', 'oiro', 'pechisbegue', '(', 'esperteza', 'ciganos', ')', '\\n', 'a', 'luzir', 'vermelho', 'verdadeiro', 'blusa', 'chita', '!', '\\n', 'Ó', 'tedio', 'domingo', 'botas', '\\n', 'e', 'musica', \"n'Avenida\", '!', '\\n', 'Ó', 'sancta', 'Virgindade', '\\n', 'a', 'garantir', 'a', 'lindeza', '!', '\\n', 'Ó', 'bilhete', 'postal', 'illustrado', '\\n', 'apparições', 'beijos', 'a', 'o', '!', '\\n\\n', 'Ó', 'Arsenal-fadista', 'ganga', 'azul', 'e', 'côco', 'socialista', '!', '\\n', 'Ó', 'sahidas', 'pôr-do-sol', 'Fabricas', \"d'Agonia\", '!', '\\n\\n', 'E', 'tambem', ',', 'nojentos', 'Politica', '\\n', 'exploraes', 'eleitos', 'o', 'Patriotismo', '!', '\\n', 'Maquereaux', 'Patria', 'pariu', '...', '\\n\\n', 'E', 'tambem', ',', 'pindericos', 'jornalistas', '\\n', 'cocegas', 'e', 'coisas', '\\n', 'á', 'opinião', 'publica', '!', '\\n\\n', 'E', 'tambem', ',', 'roberto', 'fardado', ':', '\\n', 'Futrica-te', 'espantalho', 'engalonado', ',', '\\n', 'apeia-te', 'patas', 'barro', ',', '\\n', 'larga', 'a', 'espada', 'matar', '\\n', 'e', 'o', 'penacho', 'rabo', '!', '\\n', 'Rálha-te', 'mercenario', ',', 'asceta', 'Crueldade', '!', '\\n', 'Espuma-te', 'chumbo', 'Valentia', '!', '\\n', 'Agoniza-te', 'Rilhafolles', 'armado', '!', '\\n', 'Desuniversidadiza-te', 'doutorança', 'chacina', ',', '\\n', 'sciencia', 'matança', '!', '\\n', 'Groom', 'fardado', 'Nêgra', ',', '\\n', 'pária', 'Velha', '!', '\\n', 'Encaveira-te', 'espóras', 'luzidias', 'sêres', 'fera', '!', '\\n', 'Despe-te', 'farda', ',', '\\n', 'desenfia-te', 'Impostura', ',', 'e', 'nu', ',', 'a', 'o', 'léu', '\\n', 'ficas', 'desempregado', '!', '\\n', 'Acouraça-te', 'Senso', ',', '\\n', 'vomita', 'o', 'morticinio', ',', '\\n', 'enche', 'o', 'pote', 'raciocinio', ',', '\\n', 'aprende', 'a', 'lêr', 'corações', ',', '\\n', 'ha', '\\n', 'revoluções', '!', '\\n', 'Rebusca', 'sêres', 'selvagem', ',', '\\n', 'cofre', 'exterminio', '\\n', 'o', 'calibre', 'maximo', '!', '\\n', 'acaba', 'planeta', ',', '\\n', 'faze-te', 'Deus', 'Mundo', 'dar-lhe', '!', '\\n', '(', 'Ha', ',', 'Deus', '!', '\\n', 'e', 'gente', 'distrahida', 'guerras', '!', ')', '\\n\\n', 'Olha', 'cantarem', 'a', 'ti', '!', '\\n', 'tantos', 'mundos', '!', '\\n', 'tantos', 'genios', '\\n', 'fizeram', ',', '\\n', 'deixaram', 'mundo', '!', '\\n', 'Olha', 'o', ',', 'estragados', 'ti', '!', '\\n', 'E', 'serve', 'o', 'livro', 'e', 'a', 'sciencia', '\\n', 'a', 'experiencia', 'vida', '\\n', 'comprehender', 'a', 'sciencia', 'e', 'o', 'livro', '?', '\\n', 'sciencias', '!', '\\n', 'livros', '!', '\\n\\n', 'Larga', 'a', 'cidade', 'masturbadora', ',', 'febril', ',', '\\n', 'rabo', 'decepado', 'lagartixa', ',', '\\n', 'labyrintho', 'cego', 'toupeiras', ',', '\\n', 'raça', 'ignobeis', 'myopes', ',', 'tysicos', ',', 'tarados', ',', '\\n', 'anemicos', ',', 'cancerosos', 'e', 'arseniados', '!', '\\n', 'Larga', 'a', 'cidade', '!', '\\n', 'Larga', 'a', 'infamia', 'ruas', 'e', 'boulevards', ',', '\\n', 'vae-vem', 'cynico', 'bandidos', 'mudos', ',', '\\n', 'mexer', 'esponjoso', 'carne', 'viva', ',', '\\n', 'sêr-lêsma', 'nojento', 'e', 'macabro', ',', '\\n', 'essess', 'zig-zag', 'chicote', 'auto-fustigante', ',', '\\n', 'ar', 'expirado', 'e', 'espiritista', ',', '\\n', 'Inferno', 'Dante', 'cantar', ',', '\\n', 'ruido', 'sol', 'prostituido', ',', 'impotente', 'e', 'velho', ',', '\\n', 'silencio', 'pneumonico', '\\n', 'lua', 'enxovalhada', 'vir', 'a', 'lavadeira', '!', '\\n\\n', 'Larga', 'a', 'cidade', 'e', 'foge', '!', '\\n', 'Larga', 'a', 'cidade', '!', '\\n', 'larga', ',', 'ouviste', '?', '\\n', 'Larga', '!', '\\n', '--Os', ',', 'sentimentos', ',', 'instinctos', ',', '\\n', 'e', 'larga-te', 'a', 'ti', 'tambem', ',', 'a', 'ti', 'principalmente', '!', '\\n', 'Larga', 'e', 'vae', 'o', 'campo', '\\n', 'e', 'larga', 'o', 'campo', 'tambem', '!', '\\n', '--', 'Põe-te', 'a', 'nascer', '!', '\\n', 'queiras', 'pae', 'mãe', ',', '\\n', 'queiras', ',', 'Intelligencia', '!', '\\n', 'E', 'houve', 'Intelligencia', 'a', ':', 'parar', '!', '\\n', 'põe-te', 'a', 'viver', 'cabeça', ',', '\\n', 'vê', 'o', 'olhos', 'virem', ',', '\\n', 'cheira', 'cheiros', 'Terra', ',', '\\n', 'come', 'o', 'a', 'Terra', 'dér', ',', '\\n', 'bebe', 'rios', 'e', 'mares', ',', '\\n', '--', 'põe-te', 'Natureza', '!', '\\n\\n', 'vives', ',', 'deixas', 'viver', ',', '\\n', 'Crápula', 'Egoismo', ',', 'cartola', \"d'\", 'espanta-pardaes', '!', '\\n', 'has-de', 'pagar-Me', 'a', 'febre-rodopio', '\\n', 'novêllo', 'emmaranhado', 'dôr', '!', '\\n', 'has-de', 'pagar-Me', 'a', 'febre-calafrio', '\\n', 'abysmo', 'descida', 'querer', 'descer', '!', '\\n', 'Has-de', 'pagar-Me', 'o', 'Absyntho', 'e', 'a', 'Morfina', '!', '\\n', 'Hei-de', 'cigana', 'sina', '!', '\\n', 'Hei-de', 'a', 'bruxa', 'remorso', '!', '\\n', 'Hei-de', 'desforra-dôr', 'cantar-te', 'a', 'buena-dicha', '\\n', 'aguas-fortes', 'Goya', '\\n', 'e', 'cavallo', 'Troya', '\\n', 'e', 'poemas', 'Poë', '!', '\\n', 'Hei-de', 'feiticeira', 'a', 'gallope', 'vassoira', '\\n', 'largar-te', 'lagartos', 'e', 'a', 'Peçônha', '!', '\\n', 'Hei-de', 'vara', 'magica', 'encantar-te', 'arte', 'ganir', '!', '\\n', 'Hei-de', 'reconstruir', 'ti', 'a', 'escravatura', 'nêgra', '!', '\\n', 'Hei-de', 'despir-te', 'a', 'pelle', 'a', 'e', '\\n', 'e', 'carne', 'viva', 'deitar', 'fel', ',', '\\n', 'e', 'carne', 'viva', 'semear', 'vidros', ',', '\\n', 'semear', 'gúmes', ',', '\\n', 'lúmes', ',', '\\n', 'e', 'tiros', '!', '\\n', 'Hei-de', 'gosar', 'ti', 'póses', 'diabolicas', '\\n', 'theatraes', 'venenos', 'tragicos', 'persa', 'Zoroastro', '!', '\\n', 'Hei-de', 'rasgar-te', 'vrilhas', 'forquilhas', 'e', 'croques', ',', '\\n', 'e', 'desfraldar-te', 'canellas', 'mirradas', '\\n', 'o', 'nêgro', 'pendão', 'piratas', '!', '\\n', 'Hei-de', 'corvo', 'marinho', 'beber-te', 'olhos', 'vêsgos', '!', '\\n', 'Hei-de', 'boia', 'Destino', 'braza', '\\n', 'e', 'naufrago', 'galés', 'horizontes', 'verdes', '!', '\\n\\n', 'Ah', 'sinto', 'claramente', 'nasci', '\\n', 'praga', 'ciumes', '!', '\\n', 'pragas', 'o', 'Nylo', '\\n', 'e', 'a', 'alma', 'Borgias', 'a', 'penar', '!', '\\n\\n\\n']\n"
     ]
    }
   ],
   "source": [
    "print('Original Article: %s' % (test.at[0,'text']))\n",
    "print()\n",
    "print(tokens)"
   ]
  },
  {
   "cell_type": "code",
   "execution_count": null,
   "metadata": {},
   "outputs": [],
   "source": []
  },
  {
   "cell_type": "markdown",
   "metadata": {},
   "source": [
    "<a class=\"anchor\" id=\"clearTexts\">\n",
    "\n",
    "### 1.4. Cleaning Texts\n",
    "</a>\n"
   ]
  },
  {
   "cell_type": "code",
   "execution_count": 101,
   "metadata": {},
   "outputs": [],
   "source": [
    "import re\n",
    "from nltk.corpus import stopwords\n",
    "from nltk.stem.wordnet import WordNetLemmatizer\n",
    "from tqdm import tqdm_notebook as tqdm #progressbar\n",
    "from unidecode import unidecode\n",
    "from nltk.stem import RSLPStemmer\n",
    "#nltk.download('rslp')"
   ]
  },
  {
   "cell_type": "markdown",
   "metadata": {},
   "source": [
    "#### Auxiliary functions for preprocessing:"
   ]
  },
  {
   "cell_type": "code",
   "execution_count": 63,
   "metadata": {},
   "outputs": [],
   "source": [
    "def lowercasing(text):       \n",
    "    text = text.lower()     \n",
    "    return text\n",
    "\n",
    "def to_string(text):\n",
    "    text = text.split()\n",
    "    return text\n",
    "\n",
    "def lemmatization(word):\n",
    "    lem = WordNetLemmatizer()\n",
    "    word =lem.lemmatize(word)\n",
    "    return word\n",
    "\n",
    "def punctuation(word):\n",
    "    word = re.sub('[\\“\\”\\ \"\\-\\'`~!@#$%^&*()_|+=?;:,.<>\\{\\}\\[\\]\\\\\\/]','', word)\n",
    "    return word\n",
    "\n",
    "def stopwords_nltk(word):\n",
    "    stop_words = set(stopwords.words(\"portuguese\")) \n",
    "    return word in stop_words\n",
    "\n",
    "def stopwords_spacy(word):\n",
    "    return spacy_nlp.vocab[word].is_stop\n",
    "\n",
    "def accents(word):\n",
    "    word = unidecode(word)\n",
    "    return word"
   ]
  },
  {
   "cell_type": "markdown",
   "metadata": {},
   "source": [
    "### Preprocessing 1\n",
    "##### with punctuation and no lemmatization"
   ]
  },
  {
   "cell_type": "code",
   "execution_count": 64,
   "metadata": {},
   "outputs": [],
   "source": [
    "def preprocessing_with_punc(doc, column):\n",
    "    processed_corpus = []\n",
    "    for i in tqdm(range(len(doc))):\n",
    "        text = doc[column].iloc[i,]    \n",
    "    \n",
    "        text = lowercasing(text)\n",
    "        \n",
    "        text = to_string(text)\n",
    "\n",
    "        textfinal = []\n",
    "        for word in text:\n",
    "            if stopwords_nltk(punctuation(word)) or stopwords_spacy(punctuation(word)):\n",
    "                word = re.sub('[^\\“\\”\\ \"\\-\\'`~!@#$%^&*()_|+=?;:,.<>\\{\\}\\[\\]\\\\\\/]','', word)\n",
    "            else:\n",
    "                word\n",
    "            textfinal.append(word)\n",
    "\n",
    "        text = \" \".join(textfinal)\n",
    "    \n",
    "        processed_corpus.append(text)\n",
    "         \n",
    "    return processed_corpus"
   ]
  },
  {
   "cell_type": "code",
   "execution_count": 109,
   "metadata": {},
   "outputs": [
    {
     "data": {
      "application/vnd.jupyter.widget-view+json": {
       "model_id": "73cbe1eda7024c54b79883e648860bf9",
       "version_major": 2,
       "version_minor": 0
      },
      "text/plain": [
       "HBox(children=(IntProgress(value=0, max=63), HTML(value='')))"
      ]
     },
     "metadata": {},
     "output_type": "display_data"
    },
    {
     "name": "stdout",
     "output_type": "stream",
     "text": [
      "\n"
     ]
    }
   ],
   "source": [
    "traindf['clean_with_punc'] = preprocessing_with_punc(traindf, 'removeMetadata')"
   ]
  },
  {
   "cell_type": "markdown",
   "metadata": {},
   "source": [
    "### Preprocessing 2 \n",
    "##### no punctuation and no lemmatization "
   ]
  },
  {
   "cell_type": "code",
   "execution_count": 66,
   "metadata": {},
   "outputs": [],
   "source": [
    "def preprocessing_no_punc(doc, column):\n",
    "    processed_corpus = []\n",
    "    for i in tqdm(range(len(doc))):\n",
    "        text = doc[column].iloc[i,]    \n",
    "    \n",
    "        text = lowercasing(text)\n",
    "        \n",
    "        text = to_string(text)\n",
    "        \n",
    "        text = [punctuation(word) for word in text]\n",
    "\n",
    "        text = [word for word in text if (not stopwords_nltk(word)) and (not stopwords_spacy(word))]\n",
    "        \n",
    "        text = [accents(word) for word in text] \n",
    "\n",
    "        text = \" \".join(text)\n",
    "    \n",
    "        processed_corpus.append(text)\n",
    "         \n",
    "    return processed_corpus"
   ]
  },
  {
   "cell_type": "code",
   "execution_count": 110,
   "metadata": {},
   "outputs": [
    {
     "data": {
      "application/vnd.jupyter.widget-view+json": {
       "model_id": "e4bb4b3768da4fcf9f9235358f703e35",
       "version_major": 2,
       "version_minor": 0
      },
      "text/plain": [
       "HBox(children=(IntProgress(value=0, max=63), HTML(value='')))"
      ]
     },
     "metadata": {},
     "output_type": "display_data"
    },
    {
     "name": "stdout",
     "output_type": "stream",
     "text": [
      "\n"
     ]
    }
   ],
   "source": [
    "traindf['clean_no_punc'] = preprocessing_no_punc(traindf, 'removeMetadata')"
   ]
  },
  {
   "cell_type": "markdown",
   "metadata": {},
   "source": [
    "### Preprocessing 3 \n",
    "##### no punctuation and with lemmatization"
   ]
  },
  {
   "cell_type": "code",
   "execution_count": 68,
   "metadata": {},
   "outputs": [],
   "source": [
    "def preprocessing_clean(doc, column):\n",
    "    processed_corpus = []\n",
    "    for i in tqdm(range(len(doc))):\n",
    "        text = doc[column].iloc[i,]    \n",
    "    \n",
    "        text = lowercasing(text)\n",
    "        \n",
    "        text = to_string(text)\n",
    "        \n",
    "        text = [punctuation(word) for word in text]\n",
    "\n",
    "        text = [word for word in text if (not stopwords_nltk(word)) and (not stopwords_spacy(word))]\n",
    "        \n",
    "        text = [lemmatization(word) for word in text]\n",
    "        \n",
    "        text = [accents(word) for word in text] \n",
    "\n",
    "        text = \" \".join(text)\n",
    "    \n",
    "        processed_corpus.append(text)\n",
    "         \n",
    "    return processed_corpus"
   ]
  },
  {
   "cell_type": "code",
   "execution_count": 111,
   "metadata": {},
   "outputs": [
    {
     "data": {
      "application/vnd.jupyter.widget-view+json": {
       "model_id": "1ee983ed5fba4ad8ab9dde36acf4cac6",
       "version_major": 2,
       "version_minor": 0
      },
      "text/plain": [
       "HBox(children=(IntProgress(value=0, max=63), HTML(value='')))"
      ]
     },
     "metadata": {},
     "output_type": "display_data"
    },
    {
     "name": "stdout",
     "output_type": "stream",
     "text": [
      "\n"
     ]
    }
   ],
   "source": [
    "traindf['clean'] = preprocessing_clean(traindf, 'removeMetadata')"
   ]
  },
  {
   "cell_type": "code",
   "execution_count": null,
   "metadata": {},
   "outputs": [],
   "source": []
  },
  {
   "cell_type": "code",
   "execution_count": null,
   "metadata": {},
   "outputs": [],
   "source": []
  },
  {
   "cell_type": "markdown",
   "metadata": {},
   "source": [
    "## Choosing Evaluation Metrics"
   ]
  },
  {
   "cell_type": "markdown",
   "metadata": {},
   "source": [
    "Can we use Accuracy as an evaluation metric? Depends if the dataset is unbalanced. Let's check:"
   ]
  },
  {
   "cell_type": "code",
   "execution_count": 70,
   "metadata": {},
   "outputs": [
    {
     "data": {
      "text/plain": [
       "CCB    20\n",
       "JS     12\n",
       "AN      9\n",
       "LMS     9\n",
       "JRS     8\n",
       "EQ      5\n",
       "Name: author, dtype: int64"
      ]
     },
     "execution_count": 70,
     "metadata": {},
     "output_type": "execute_result"
    }
   ],
   "source": [
    "traindf.iloc[:,2].value_counts()"
   ]
  },
  {
   "cell_type": "markdown",
   "metadata": {},
   "source": [
    "It is unbalanced in favour of Camilo Castelo Branco which is why we get a higher accuracy when we use the DummyClassifier with most frequent strategy (0.31) compared to other strategies (stratified 0.22) even though it's just classifying all texts as belonging to CCB. As such accuracy may not be the best metric in this case.\n",
    "\n",
    "Instead we will use the F1 Score as it integrates Precision and Recall simultaneously."
   ]
  },
  {
   "cell_type": "markdown",
   "metadata": {},
   "source": [
    "## Word Cloud\n",
    "\n",
    "To see a word cloud - or the most frequent words - written by a given author just type in the function one of the following siglas: \n"
   ]
  },
  {
   "cell_type": "code",
   "execution_count": 71,
   "metadata": {},
   "outputs": [
    {
     "data": {
      "text/plain": [
       "['AN', 'CCB', 'EQ', 'JRS', 'JS', 'LMS']"
      ]
     },
     "execution_count": 71,
     "metadata": {},
     "output_type": "execute_result"
    }
   ],
   "source": [
    "authors_sigla"
   ]
  },
  {
   "cell_type": "markdown",
   "metadata": {},
   "source": [
    "Corresponding to the following authors:"
   ]
  },
  {
   "cell_type": "code",
   "execution_count": 72,
   "metadata": {},
   "outputs": [
    {
     "data": {
      "text/plain": [
       "['José de Almada Negreiros',\n",
       " 'José de ALMADA-NEGREIROS',\n",
       " 'JOSÉ DE ALMADA-NEGREIROS',\n",
       " 'Almada Negreiros',\n",
       " 'Camilo Castelo Branco',\n",
       " 'CAMILLO CASTELLO BRANCO',\n",
       " 'Eça de Queirós',\n",
       " 'Eca de Queiros',\n",
       " 'José Rodrigues dos Santos',\n",
       " 'Jose Rodrigues dos Santos',\n",
       " 'JOSÉ RODRIGUES DOS SANTOS',\n",
       " 'José Saramago',\n",
       " 'Jose Saramago',\n",
       " 'JoSÉ SaRamago',\n",
       " 'Luísa Marques Silva',\n",
       " 'Luisa Marques Silva',\n",
       " 'Luísa Marques da Silva']"
      ]
     },
     "execution_count": 72,
     "metadata": {},
     "output_type": "execute_result"
    }
   ],
   "source": [
    "authors"
   ]
  },
  {
   "cell_type": "code",
   "execution_count": 73,
   "metadata": {},
   "outputs": [],
   "source": [
    "def word_cloud(author,text_column):\n",
    "    word_cloud = \" \".join(traindf[traindf['author']==author][text_column])\n",
    "\n",
    "\n",
    "    # Create and generate a word cloud image:\n",
    "    wordcloud = WordCloud(max_font_size=50, max_words=100, background_color=\"white\").generate(word_cloud)\n",
    "    # Display the generated image:\n",
    "    plt.figure(figsize=(17,7))\n",
    "    plt.title('Word Cloud from ' + author)\n",
    "    plt.imshow(wordcloud, interpolation=\"bilinear\")\n",
    "    plt.axis(\"off\")\n",
    "    plt.show()"
   ]
  },
  {
   "cell_type": "code",
   "execution_count": 74,
   "metadata": {},
   "outputs": [
    {
     "data": {
      "image/png": "[encoded data removed]",
      "text/plain": [
       "<Figure size 1224x504 with 1 Axes>"
      ]
     },
     "metadata": {
      "needs_background": "light"
     },
     "output_type": "display_data"
    }
   ],
   "source": [
    "word_cloud('JS','clean')"
   ]
  },
  {
   "cell_type": "markdown",
   "metadata": {},
   "source": [
    "WILL NEED TO REMOVE STOP WORDS FIRST BEFORE IT MAKES ANY SENSE "
   ]
  },
  {
   "cell_type": "markdown",
   "metadata": {},
   "source": [
    "## Testing the Importance of Punctuation\n",
    "\n",
    "We know that José Saramago has an interesting use of punctuation and it can be a factor in identifying texts from him. Does this mean that we shouldn't consider punctuations as stop-words? Let's test it.\n",
    "\n",
    "To do so we will use a dummy classifier on two texts from Saramago and two from JRS. Will we see a difference in the performance of the classifier with or without punctuation?"
   ]
  },
  {
   "cell_type": "code",
   "execution_count": 102,
   "metadata": {},
   "outputs": [],
   "source": [
    "punc_traindf = traindf[traindf.author=='JS'][1:3].append(traindf[traindf.author=='JRS'][1:3])"
   ]
  },
  {
   "cell_type": "markdown",
   "metadata": {},
   "source": [
    "We will run the dummy classifier n_iter times and determine the difference between the two. If the classifier is better with punctuation we should see a _positive difference_ meaning that the classifier that runs on the text with punctuation should have a better accuracy score than the one without. "
   ]
  },
  {
   "cell_type": "code",
   "execution_count": 103,
   "metadata": {},
   "outputs": [],
   "source": [
    "n_iter = 50000\n",
    "score_punc_test = []\n",
    "for i in range(0,n_iter):\n",
    "    score_punc_test.append(dummy_classifier_score(punc_traindf,'clean_with_punc','stratified')-dummy_classifier_score(punc_traindf,'clean','stratified'))\n",
    "    i += 1\n",
    "score_punc_test = pd.DataFrame(score_punc_test)"
   ]
  },
  {
   "cell_type": "code",
   "execution_count": 104,
   "metadata": {},
   "outputs": [
    {
     "data": {
      "text/html": [
       "<div>\n",
       "<style scoped>\n",
       "    .dataframe tbody tr th:only-of-type {\n",
       "        vertical-align: middle;\n",
       "    }\n",
       "\n",
       "    .dataframe tbody tr th {\n",
       "        vertical-align: top;\n",
       "    }\n",
       "\n",
       "    .dataframe thead th {\n",
       "        text-align: right;\n",
       "    }\n",
       "</style>\n",
       "<table border=\"1\" class=\"dataframe\">\n",
       "  <thead>\n",
       "    <tr style=\"text-align: right;\">\n",
       "      <th></th>\n",
       "      <th>0</th>\n",
       "    </tr>\n",
       "  </thead>\n",
       "  <tbody>\n",
       "    <tr>\n",
       "      <td>count</td>\n",
       "      <td>50000.000000</td>\n",
       "    </tr>\n",
       "    <tr>\n",
       "      <td>mean</td>\n",
       "      <td>0.000810</td>\n",
       "    </tr>\n",
       "    <tr>\n",
       "      <td>std</td>\n",
       "      <td>0.354657</td>\n",
       "    </tr>\n",
       "    <tr>\n",
       "      <td>min</td>\n",
       "      <td>-1.000000</td>\n",
       "    </tr>\n",
       "    <tr>\n",
       "      <td>25%</td>\n",
       "      <td>-0.250000</td>\n",
       "    </tr>\n",
       "    <tr>\n",
       "      <td>50%</td>\n",
       "      <td>0.000000</td>\n",
       "    </tr>\n",
       "    <tr>\n",
       "      <td>75%</td>\n",
       "      <td>0.250000</td>\n",
       "    </tr>\n",
       "    <tr>\n",
       "      <td>max</td>\n",
       "      <td>1.000000</td>\n",
       "    </tr>\n",
       "  </tbody>\n",
       "</table>\n",
       "</div>"
      ],
      "text/plain": [
       "                  0\n",
       "count  50000.000000\n",
       "mean       0.000810\n",
       "std        0.354657\n",
       "min       -1.000000\n",
       "25%       -0.250000\n",
       "50%        0.000000\n",
       "75%        0.250000\n",
       "max        1.000000"
      ]
     },
     "execution_count": 104,
     "metadata": {},
     "output_type": "execute_result"
    }
   ],
   "source": [
    "score_punc_test.describe()"
   ]
  },
  {
   "cell_type": "markdown",
   "metadata": {},
   "source": [
    "There's a very very small change between each classifiers. Which may indicate that there are no difference in the performance of the classifier of JS with or without punctuation. \n",
    "\n",
    "To confirm this, let's do a one sided hypothesis test, where the null hypothesis is that the mean of the difference between the scores is zero, meaning there is no difference between doing a classifier with or without punctuation for José Saramago."
   ]
  },
  {
   "cell_type": "code",
   "execution_count": 105,
   "metadata": {},
   "outputs": [
    {
     "name": "stdout",
     "output_type": "stream",
     "text": [
      "mean 0    0.00081\n",
      "dtype: float64\n",
      "p-values [0.60956738]\n",
      "Do not reject the null hypothesis: there are no evidence that the classifier is better if we mantain the punctuation\n"
     ]
    }
   ],
   "source": [
    "from scipy.stats import ttest_1samp\n",
    "\n",
    "diff_mean = np.mean(score_punc_test)\n",
    "print('mean', diff_mean)\n",
    "tset, pval = ttest_1samp(score_punc_test, 0)\n",
    "print('p-values', pval)\n",
    "if pval < 0.05:    # alpha value is 0.05 or 5%\n",
    "   print(\"Reject the null hypothesis: there are evidence that the classifier performs differently if there's punctuation\")\n",
    "else:\n",
    "  print(\"Do not reject the null hypothesis: there are no evidence that the classifier is better if we mantain the punctuation\")"
   ]
  },
  {
   "cell_type": "code",
   "execution_count": null,
   "metadata": {},
   "outputs": [],
   "source": []
  },
  {
   "cell_type": "markdown",
   "metadata": {},
   "source": [
    "## Dividing the text into chunks of 500 words"
   ]
  },
  {
   "cell_type": "code",
   "execution_count": 106,
   "metadata": {},
   "outputs": [],
   "source": [
    "def split_doc(doc,column,n):\n",
    "    newdf = pd.DataFrame()\n",
    "    newdf = newdf.reindex(columns = ['id','chunks','author']) \n",
    "    for i in tqdm(range(len(doc))):\n",
    "        text = doc[column].iloc[i,]\n",
    "\n",
    "        text = text.split()\n",
    "\n",
    "        chunks = [' '.join(text[j:j+n]) for j in range(0,len(text),n)]\n",
    "\n",
    "        for c in chunks:\n",
    "            data = []\n",
    "            values = [doc['id'].iloc[i,], c, doc['author'].iloc[i,]]\n",
    "            a_dictionary = dict(zip(newdf.columns.tolist(), values))\n",
    "            data.append(a_dictionary)\n",
    "            newdf = newdf.append(data)\n",
    "            \n",
    "    newdf.index =[j for j in range(len(newdf))]  \n",
    "              \n",
    "    return newdf"
   ]
  },
  {
   "cell_type": "code",
   "execution_count": 112,
   "metadata": {},
   "outputs": [
    {
     "data": {
      "application/vnd.jupyter.widget-view+json": {
       "model_id": "632dff13c76c422fb868a516e403d4de",
       "version_major": 2,
       "version_minor": 0
      },
      "text/plain": [
       "HBox(children=(IntProgress(value=0, max=63), HTML(value='')))"
      ]
     },
     "metadata": {},
     "output_type": "display_data"
    },
    {
     "name": "stdout",
     "output_type": "stream",
     "text": [
      "\n"
     ]
    }
   ],
   "source": [
    "traindf_chunks = split_doc(traindf, 'clean' ,500)"
   ]
  },
  {
   "cell_type": "code",
   "execution_count": 113,
   "metadata": {},
   "outputs": [
    {
     "data": {
      "text/html": [
       "<div>\n",
       "<style scoped>\n",
       "    .dataframe tbody tr th:only-of-type {\n",
       "        vertical-align: middle;\n",
       "    }\n",
       "\n",
       "    .dataframe tbody tr th {\n",
       "        vertical-align: top;\n",
       "    }\n",
       "\n",
       "    .dataframe thead th {\n",
       "        text-align: right;\n",
       "    }\n",
       "</style>\n",
       "<table border=\"1\" class=\"dataframe\">\n",
       "  <thead>\n",
       "    <tr style=\"text-align: right;\">\n",
       "      <th></th>\n",
       "      <th>id</th>\n",
       "      <th>chunks</th>\n",
       "      <th>author</th>\n",
       "    </tr>\n",
       "  </thead>\n",
       "  <tbody>\n",
       "    <tr>\n",
       "      <td>0</td>\n",
       "      <td>AlmadaNegreiros0.txt</td>\n",
       "      <td>title author release date september 16 2007 eb...</td>\n",
       "      <td>AN</td>\n",
       "    </tr>\n",
       "    <tr>\n",
       "      <td>1</td>\n",
       "      <td>AlmadaNegreiros0.txt</td>\n",
       "      <td>sensibilidade manchada vinho lyrio bravo flore...</td>\n",
       "      <td>AN</td>\n",
       "    </tr>\n",
       "    <tr>\n",
       "      <td>2</td>\n",
       "      <td>AlmadaNegreiros0.txt</td>\n",
       "      <td>negro pendao piratas heide corvo marinho beber...</td>\n",
       "      <td>AN</td>\n",
       "    </tr>\n",
       "    <tr>\n",
       "      <td>3</td>\n",
       "      <td>AlmadaNegreiros1.txt</td>\n",
       "      <td>title author release date september 23 2007 eb...</td>\n",
       "      <td>AN</td>\n",
       "    </tr>\n",
       "    <tr>\n",
       "      <td>4</td>\n",
       "      <td>AlmadaNegreiros2.txt</td>\n",
       "      <td>title author release date september 29 2007 eb...</td>\n",
       "      <td>AN</td>\n",
       "    </tr>\n",
       "    <tr>\n",
       "      <td>5</td>\n",
       "      <td>AlmadaNegreiros2.txt</td>\n",
       "      <td>explicam senhora homem senhoras menina loira h...</td>\n",
       "      <td>AN</td>\n",
       "    </tr>\n",
       "    <tr>\n",
       "      <td>6</td>\n",
       "      <td>AlmadaNegreiros2.txt</td>\n",
       "      <td>cances sorte &lt;&lt;nao tenhas medo estares cabeca ...</td>\n",
       "      <td>AN</td>\n",
       "    </tr>\n",
       "    <tr>\n",
       "      <td>7</td>\n",
       "      <td>AlmadaNegreiros2.txt</td>\n",
       "      <td>atrapalhado pensei responder verdade disse ver...</td>\n",
       "      <td>AN</td>\n",
       "    </tr>\n",
       "    <tr>\n",
       "      <td>8</td>\n",
       "      <td>AlmadaNegreiros2.txt</td>\n",
       "      <td>espera penso verdade for matome gosto bois bar...</td>\n",
       "      <td>AN</td>\n",
       "    </tr>\n",
       "    <tr>\n",
       "      <td>9</td>\n",
       "      <td>AlmadaNegreiros2.txt</td>\n",
       "      <td>sahi casa mae irmao extrangeiro infelicidade m...</td>\n",
       "      <td>AN</td>\n",
       "    </tr>\n",
       "  </tbody>\n",
       "</table>\n",
       "</div>"
      ],
      "text/plain": [
       "                     id                                             chunks  \\\n",
       "0  AlmadaNegreiros0.txt  title author release date september 16 2007 eb...   \n",
       "1  AlmadaNegreiros0.txt  sensibilidade manchada vinho lyrio bravo flore...   \n",
       "2  AlmadaNegreiros0.txt  negro pendao piratas heide corvo marinho beber...   \n",
       "3  AlmadaNegreiros1.txt  title author release date september 23 2007 eb...   \n",
       "4  AlmadaNegreiros2.txt  title author release date september 29 2007 eb...   \n",
       "5  AlmadaNegreiros2.txt  explicam senhora homem senhoras menina loira h...   \n",
       "6  AlmadaNegreiros2.txt  cances sorte <<nao tenhas medo estares cabeca ...   \n",
       "7  AlmadaNegreiros2.txt  atrapalhado pensei responder verdade disse ver...   \n",
       "8  AlmadaNegreiros2.txt  espera penso verdade for matome gosto bois bar...   \n",
       "9  AlmadaNegreiros2.txt  sahi casa mae irmao extrangeiro infelicidade m...   \n",
       "\n",
       "  author  \n",
       "0     AN  \n",
       "1     AN  \n",
       "2     AN  \n",
       "3     AN  \n",
       "4     AN  \n",
       "5     AN  \n",
       "6     AN  \n",
       "7     AN  \n",
       "8     AN  \n",
       "9     AN  "
      ]
     },
     "execution_count": 113,
     "metadata": {},
     "output_type": "execute_result"
    }
   ],
   "source": [
    "traindf_chunks.head(10)"
   ]
  },
  {
   "cell_type": "markdown",
   "metadata": {},
   "source": [
    "## Cross-validation \n",
    "We already have a test set defined however there is value in having an evaluation/development set to determine the model performance as it's being trained and to adjust the parameters.\n",
    "\n",
    "Given the relatively small amount of data we chose to use cross-validation rather than splitting the set into training and evaluation sets.\n",
    "\n",
    "We will do so by applying the k-fold crossvalidation method, the choice of number of folds k will be decided according to:\n",
    "\n",
    "\"... there is a bias-variance trade-off associated with the choice of k in k-fold cross-validation. Typically, given these considerations, one performs k-fold cross-validation using k = 5 or k = 10, as these values have been shown empirically to yield test error rate estimates that suffer neither from excessively high bias nor from very high variance.\" - Page 184, An Introduction to Statistical Learning, 2013."
   ]
  },
  {
   "cell_type": "code",
   "execution_count": 83,
   "metadata": {},
   "outputs": [],
   "source": [
    "from sklearn.model_selection import KFold\n",
    "#Creating a k-fold instance where the number of splits is 10\n",
    "kf = KFold(n_splits=10)"
   ]
  },
  {
   "cell_type": "code",
   "execution_count": 84,
   "metadata": {},
   "outputs": [],
   "source": [
    "#Using accuracy may have to change\n",
    "def evaluate_model(X,y, model):\n",
    "    return model.score(X,y)"
   ]
  },
  {
   "cell_type": "markdown",
   "metadata": {},
   "source": [
    "<a class=\"anchor\" id=\"Baseline\">\n",
    "\n",
    "## 2. Creating a Baseline\n",
    "    \n",
    "</a>\n",
    "\n",
    "Our goal now is to create a naíve baseline to compare our model with. It won't involve any pre-processing of data or removal of extra meta data."
   ]
  },
  {
   "cell_type": "markdown",
   "metadata": {},
   "source": [
    "#### 1st Try\n",
    "Using DummyClassifier as a baseline? "
   ]
  },
  {
   "cell_type": "code",
   "execution_count": 85,
   "metadata": {},
   "outputs": [],
   "source": [
    "import numpy as np\n",
    "from sklearn.dummy import DummyClassifier"
   ]
  },
  {
   "cell_type": "code",
   "execution_count": 86,
   "metadata": {},
   "outputs": [],
   "source": [
    "def dummy_classifier_score(df,text_column,strategy):\n",
    "\n",
    "    X = df.loc[:,text_column]\n",
    "    y = df.loc[:,'author']\n",
    "    dummy_clf = DummyClassifier(strategy=strategy) #stratified, most_frequent\n",
    "    dummy_clf.fit(X, y)\n",
    "    dummy_clf.predict(X)\n",
    "    return dummy_clf.score(X, y)"
   ]
  },
  {
   "cell_type": "code",
   "execution_count": 87,
   "metadata": {},
   "outputs": [
    {
     "data": {
      "text/plain": [
       "0.31746031746031744"
      ]
     },
     "execution_count": 87,
     "metadata": {},
     "output_type": "execute_result"
    }
   ],
   "source": [
    "dummy_classifier_score(traindf,'text','most_frequent')"
   ]
  },
  {
   "cell_type": "markdown",
   "metadata": {},
   "source": [
    "Using a Dummy Classifier inside a crossvalidation k-fold "
   ]
  },
  {
   "cell_type": "code",
   "execution_count": 88,
   "metadata": {},
   "outputs": [],
   "source": [
    "#Placeholder dummy classifier\n",
    "def dummy_classifier_model(X,y,strategy):\n",
    "    dummy_clf = DummyClassifier(strategy=strategy) #stratified, most_frequent\n",
    "    model = dummy_clf.fit(X, y)\n",
    "    return model"
   ]
  },
  {
   "cell_type": "code",
   "execution_count": 89,
   "metadata": {},
   "outputs": [],
   "source": [
    "#For the dummy classifier\n",
    "def avg_score_DC(method,X,y,strategy):\n",
    "    score_train = []\n",
    "    score_eval = []\n",
    "    for train_index, eval_index in method.split(X):\n",
    "        X_train, X_eval = X.iloc[train_index], X.iloc[eval_index]\n",
    "        y_train, y_eval = y.iloc[train_index], y.iloc[eval_index]\n",
    "        ####Define model:\n",
    "        model = dummy_classifier_model(X_train,y_train,strategy)\n",
    "        ###############\n",
    "        value_train = evaluate_model(X_train, y_train, model)\n",
    "        value_eval = evaluate_model(X_eval,y_eval, model)\n",
    "        score_train.append(value_train)\n",
    "        score_eval.append(value_eval)\n",
    "\n",
    "    print('Train:', np.mean(score_train))\n",
    "    print('Evaluation:', np.mean(score_eval))\n"
   ]
  },
  {
   "cell_type": "code",
   "execution_count": 90,
   "metadata": {},
   "outputs": [
    {
     "name": "stdout",
     "output_type": "stream",
     "text": [
      "Train: 0.2098997493734336\n",
      "Evaluation: 0.20238095238095238\n"
     ]
    }
   ],
   "source": [
    "avg_score_DC(kf,traindf['clean'],traindf['author'],'stratified')"
   ]
  },
  {
   "cell_type": "markdown",
   "metadata": {},
   "source": [
    "Very bad result with dummy classifier as expected. Creating a bag-of-words is probably a better choice: \n",
    "#### 2nd Try"
   ]
  },
  {
   "cell_type": "code",
   "execution_count": 91,
   "metadata": {},
   "outputs": [],
   "source": [
    "from sklearn.feature_extraction.text import TfidfTransformer\n",
    "from sklearn.feature_extraction.text import CountVectorizer\n",
    "from sklearn.naive_bayes import MultinomialNB\n",
    "\n",
    "def bag_of_words_model(X,y):\n",
    "    count_vect = CountVectorizer(\n",
    "        max_df=0.8,\n",
    "        max_features=10000, \n",
    "        ngram_range=(1,3)\n",
    "    )\n",
    "    \n",
    "    X_count = count_vect.fit_transform(X)\n",
    "    #using frequencies instead of occurrences in order to normalize the counts for \n",
    "    #documents that are larger compared to smaller ones -term frequency\n",
    "    #As well as downscaling weights for words that occur in many documntenst in the corpus\n",
    "    #and are therefore less informative \n",
    "\n",
    "    X_train_tfidf =  TfidfTransformer().fit_transform(X_count)\n",
    "    #Now that we have the features we can train the classifier. \n",
    "    #Let's use a naive bayes classsifier in the multinomial variant as it's the most well suited for word counts\n",
    "    model = MultinomialNB().fit(X_train_tfidf, y)\n",
    "    return model, X_train_tfidf"
   ]
  },
  {
   "cell_type": "code",
   "execution_count": 92,
   "metadata": {},
   "outputs": [],
   "source": [
    "def avg_score_baseline(method,X,y):\n",
    "    #Using Bag-of-Words\n",
    "    score_train = []\n",
    "    score_eval = []\n",
    "    for train_index, eval_index in method.split(X):\n",
    "        X_train, X_eval = X.iloc[train_index], X.iloc[eval_index]\n",
    "        y_train, y_eval = y.iloc[train_index], y.iloc[eval_index]\n",
    "        \n",
    "        ##Define model:\n",
    "        model = bag_of_words_model(X_train,y_train)[0]\n",
    "        \n",
    "        ##Evaluation of baseline model\n",
    "        #The evaluate_model functions needs to use the respective X_train with the tfid transformer.\n",
    "        value_train = evaluate_model(bag_of_words_model(X_train,y_train)[1], y_train, model)\n",
    "        value_eval = evaluate_model(bag_of_words_model(X_eval,y_eval)[1],y_eval, model)\n",
    "        \n",
    "        score_train.append(value_train)\n",
    "        score_eval.append(value_eval)\n",
    "        \n",
    "        ##Average of Evaluation measure\n",
    "    print('Train:', np.mean(score_train))\n",
    "    print('Evaluation:', np.mean(score_eval))"
   ]
  },
  {
   "cell_type": "markdown",
   "metadata": {},
   "source": [
    "## Testing the models with different levels of Preprocessing"
   ]
  },
  {
   "cell_type": "code",
   "execution_count": 95,
   "metadata": {},
   "outputs": [
    {
     "name": "stdout",
     "output_type": "stream",
     "text": [
      "Train: 0.806296992481203\n",
      "Evaluation: 0.2619047619047619\n"
     ]
    }
   ],
   "source": [
    "avg_score_baseline(kf,traindf['text'],traindf['author'])"
   ]
  },
  {
   "cell_type": "code",
   "execution_count": 97,
   "metadata": {},
   "outputs": [
    {
     "name": "stdout",
     "output_type": "stream",
     "text": [
      "Train: 0.8045426065162907\n",
      "Evaluation: 0.29047619047619044\n"
     ]
    }
   ],
   "source": [
    "avg_score_baseline(kf,traindf['removeMetadata'],traindf['author'])"
   ]
  },
  {
   "cell_type": "code",
   "execution_count": 114,
   "metadata": {},
   "outputs": [
    {
     "name": "stdout",
     "output_type": "stream",
     "text": [
      "Train: 0.7940162907268171\n",
      "Evaluation: 0.3047619047619048\n"
     ]
    }
   ],
   "source": [
    "avg_score_baseline(kf,traindf['clean_with_punc'],traindf['author'])"
   ]
  },
  {
   "cell_type": "code",
   "execution_count": 115,
   "metadata": {},
   "outputs": [
    {
     "name": "stdout",
     "output_type": "stream",
     "text": [
      "Train: 0.7993107769423559\n",
      "Evaluation: 0.3047619047619048\n"
     ]
    }
   ],
   "source": [
    "avg_score_baseline(kf,traindf['clean_no_punc'],traindf['author'])"
   ]
  },
  {
   "cell_type": "code",
   "execution_count": 116,
   "metadata": {},
   "outputs": [
    {
     "name": "stdout",
     "output_type": "stream",
     "text": [
      "Train: 0.7975250626566416\n",
      "Evaluation: 0.3047619047619048\n"
     ]
    }
   ],
   "source": [
    "avg_score_baseline(kf,traindf['clean'],traindf['author'])"
   ]
  },
  {
   "cell_type": "code",
   "execution_count": 117,
   "metadata": {},
   "outputs": [
    {
     "data": {
      "text/html": [
       "<div>\n",
       "<style scoped>\n",
       "    .dataframe tbody tr th:only-of-type {\n",
       "        vertical-align: middle;\n",
       "    }\n",
       "\n",
       "    .dataframe tbody tr th {\n",
       "        vertical-align: top;\n",
       "    }\n",
       "\n",
       "    .dataframe thead th {\n",
       "        text-align: right;\n",
       "    }\n",
       "</style>\n",
       "<table border=\"1\" class=\"dataframe\">\n",
       "  <thead>\n",
       "    <tr style=\"text-align: right;\">\n",
       "      <th></th>\n",
       "      <th>id</th>\n",
       "      <th>text</th>\n",
       "      <th>author</th>\n",
       "      <th>removeMetadata</th>\n",
       "      <th>clean_with_punc</th>\n",
       "      <th>clean_no_punc</th>\n",
       "      <th>clean</th>\n",
       "    </tr>\n",
       "  </thead>\n",
       "  <tbody>\n",
       "    <tr>\n",
       "      <td>0</td>\n",
       "      <td>AlmadaNegreiros0.txt</td>\n",
       "      <td>Title: A Scena do Odio\\n\\nAuthor: José de Alma...</td>\n",
       "      <td>AN</td>\n",
       "      <td>Title: \\n\\nAuthor: \\n\\nRelease Date: September...</td>\n",
       "      <td>title: author: release date: september 16, 200...</td>\n",
       "      <td>title author release date september 16 2007 eb...</td>\n",
       "      <td>title author release date september 16 2007 eb...</td>\n",
       "    </tr>\n",
       "    <tr>\n",
       "      <td>1</td>\n",
       "      <td>AlmadaNegreiros1.txt</td>\n",
       "      <td>Title: O Jardim da Pierrette\\n\\nAuthor: José d...</td>\n",
       "      <td>AN</td>\n",
       "      <td>Title: \\n\\nAuthor: \\n\\nRelease Date: September...</td>\n",
       "      <td>title: author: release date: september 23, 200...</td>\n",
       "      <td>title author release date september 23 2007 eb...</td>\n",
       "      <td>title author release date september 23 2007 eb...</td>\n",
       "    </tr>\n",
       "    <tr>\n",
       "      <td>2</td>\n",
       "      <td>AlmadaNegreiros2.txt</td>\n",
       "      <td>\\n\\nTitle: A Invenção do Dia Claro\\n\\nAuthor: ...</td>\n",
       "      <td>AN</td>\n",
       "      <td>\\n\\nTitle: \\n\\nAuthor: \\n\\nRelease Date: Septe...</td>\n",
       "      <td>title: author: release date: september 29, 200...</td>\n",
       "      <td>title author release date september 29 2007 eb...</td>\n",
       "      <td>title author release date september 29 2007 eb...</td>\n",
       "    </tr>\n",
       "    <tr>\n",
       "      <td>3</td>\n",
       "      <td>AlmadaNegreiros3.txt</td>\n",
       "      <td>\\nTitle: Litoral\\n       A Amadeo de Souza Car...</td>\n",
       "      <td>AN</td>\n",
       "      <td>\\nTitle: \\n       \\n\\nAuthor: \\n\\nContributor:...</td>\n",
       "      <td>title: author: contributor: amadeu  sousa card...</td>\n",
       "      <td>title author contributor amadeu sousa cardoso ...</td>\n",
       "      <td>title author contributor amadeu sousa cardoso ...</td>\n",
       "    </tr>\n",
       "    <tr>\n",
       "      <td>4</td>\n",
       "      <td>AlmadaNegreiros4.txt</td>\n",
       "      <td>\\n\\n\\nEXPOSIÇÃO\\n\\n+amadeo\\nde souza\\ncardoso+...</td>\n",
       "      <td>AN</td>\n",
       "      <td>\\n\\n\\nEXPOSIÇÃO\\n\\n+amadeo\\nde souza\\ncardoso+...</td>\n",
       "      <td>exposição +amadeo  souza cardoso+ liga naval  ...</td>\n",
       "      <td>exposicao amadeo souza cardoso liga naval lisb...</td>\n",
       "      <td>exposicao amadeo souza cardoso liga naval lisb...</td>\n",
       "    </tr>\n",
       "    <tr>\n",
       "      <td>...</td>\n",
       "      <td>...</td>\n",
       "      <td>...</td>\n",
       "      <td>...</td>\n",
       "      <td>...</td>\n",
       "      <td>...</td>\n",
       "      <td>...</td>\n",
       "      <td>...</td>\n",
       "    </tr>\n",
       "    <tr>\n",
       "      <td>58</td>\n",
       "      <td>LuisaMarquesSilva4.txt</td>\n",
       "      <td>Título\\ne-medo\\n\\nAutora (inspiradíssima)\\nLuí...</td>\n",
       "      <td>LMS</td>\n",
       "      <td>Título\\n\\n\\nAutora (inspiradíssima)\\n\\n\\nTodos...</td>\n",
       "      <td>título autora (inspiradíssima)   direitos rese...</td>\n",
       "      <td>titulo autora inspiradissima direitos reservad...</td>\n",
       "      <td>titulo autora inspiradissima direitos reservad...</td>\n",
       "    </tr>\n",
       "    <tr>\n",
       "      <td>59</td>\n",
       "      <td>LuisaMarquesSilva5.txt</td>\n",
       "      <td>LISBOA 2050\\nLisboa, ano de 2050. Um Agosto tã...</td>\n",
       "      <td>LMS</td>\n",
       "      <td>\\nLisboa, ano de 2050. Um Agosto tão gelado co...</td>\n",
       "      <td>lisboa, ano  2050.  agosto  gelado    anos .  ...</td>\n",
       "      <td>lisboa ano 2050 agosto gelado anos dia triste ...</td>\n",
       "      <td>lisboa ano 2050 agosto gelado ano dia triste m...</td>\n",
       "    </tr>\n",
       "    <tr>\n",
       "      <td>60</td>\n",
       "      <td>LuisaMarquesSilva6.txt</td>\n",
       "      <td>Título\\nUm passeio pelo inferno\\n\\nAutora\\nLuí...</td>\n",
       "      <td>LMS</td>\n",
       "      <td>Título\\n\\n\\nAutora\\n\\n\\nTodos os direitos rese...</td>\n",
       "      <td>título autora   direitos reservados ©2015 capa...</td>\n",
       "      <td>titulo autora direitos reservados (c)2015 capa...</td>\n",
       "      <td>titulo autora direitos reservados (c)2015 capa...</td>\n",
       "    </tr>\n",
       "    <tr>\n",
       "      <td>61</td>\n",
       "      <td>LuisaMarquesSilva7.txt</td>\n",
       "      <td>Título\\nRapsódia sem dó (maior)\\n\\nAutora\\nLuí...</td>\n",
       "      <td>LMS</td>\n",
       "      <td>Título\\nRapsódia sem dó (maior)\\n\\nAutora\\n\\n\\...</td>\n",
       "      <td>título rapsódia  dó () autora   direitos reser...</td>\n",
       "      <td>titulo rapsodia do autora direitos reservados ...</td>\n",
       "      <td>titulo rapsodia do autora direitos reservados ...</td>\n",
       "    </tr>\n",
       "    <tr>\n",
       "      <td>62</td>\n",
       "      <td>LuisaMarquesSilva8.txt</td>\n",
       "      <td>Título\\nA última história\\n\\nAutora (próximo N...</td>\n",
       "      <td>LMS</td>\n",
       "      <td>Título\\n\\n\\nAutora (próximo Nobel)\\n\\n\\nTodos ...</td>\n",
       "      <td>título autora ( nobel)   direitos reservados ©...</td>\n",
       "      <td>titulo autora nobel direitos reservados (c)201...</td>\n",
       "      <td>titulo autora nobel direitos reservados (c)201...</td>\n",
       "    </tr>\n",
       "  </tbody>\n",
       "</table>\n",
       "<p>63 rows × 7 columns</p>\n",
       "</div>"
      ],
      "text/plain": [
       "                        id                                               text  \\\n",
       "0     AlmadaNegreiros0.txt  Title: A Scena do Odio\\n\\nAuthor: José de Alma...   \n",
       "1     AlmadaNegreiros1.txt  Title: O Jardim da Pierrette\\n\\nAuthor: José d...   \n",
       "2     AlmadaNegreiros2.txt  \\n\\nTitle: A Invenção do Dia Claro\\n\\nAuthor: ...   \n",
       "3     AlmadaNegreiros3.txt  \\nTitle: Litoral\\n       A Amadeo de Souza Car...   \n",
       "4     AlmadaNegreiros4.txt  \\n\\n\\nEXPOSIÇÃO\\n\\n+amadeo\\nde souza\\ncardoso+...   \n",
       "..                     ...                                                ...   \n",
       "58  LuisaMarquesSilva4.txt  Título\\ne-medo\\n\\nAutora (inspiradíssima)\\nLuí...   \n",
       "59  LuisaMarquesSilva5.txt  LISBOA 2050\\nLisboa, ano de 2050. Um Agosto tã...   \n",
       "60  LuisaMarquesSilva6.txt  Título\\nUm passeio pelo inferno\\n\\nAutora\\nLuí...   \n",
       "61  LuisaMarquesSilva7.txt  Título\\nRapsódia sem dó (maior)\\n\\nAutora\\nLuí...   \n",
       "62  LuisaMarquesSilva8.txt  Título\\nA última história\\n\\nAutora (próximo N...   \n",
       "\n",
       "   author                                     removeMetadata  \\\n",
       "0      AN  Title: \\n\\nAuthor: \\n\\nRelease Date: September...   \n",
       "1      AN  Title: \\n\\nAuthor: \\n\\nRelease Date: September...   \n",
       "2      AN  \\n\\nTitle: \\n\\nAuthor: \\n\\nRelease Date: Septe...   \n",
       "3      AN  \\nTitle: \\n       \\n\\nAuthor: \\n\\nContributor:...   \n",
       "4      AN  \\n\\n\\nEXPOSIÇÃO\\n\\n+amadeo\\nde souza\\ncardoso+...   \n",
       "..    ...                                                ...   \n",
       "58    LMS  Título\\n\\n\\nAutora (inspiradíssima)\\n\\n\\nTodos...   \n",
       "59    LMS  \\nLisboa, ano de 2050. Um Agosto tão gelado co...   \n",
       "60    LMS  Título\\n\\n\\nAutora\\n\\n\\nTodos os direitos rese...   \n",
       "61    LMS  Título\\nRapsódia sem dó (maior)\\n\\nAutora\\n\\n\\...   \n",
       "62    LMS  Título\\n\\n\\nAutora (próximo Nobel)\\n\\n\\nTodos ...   \n",
       "\n",
       "                                      clean_with_punc  \\\n",
       "0   title: author: release date: september 16, 200...   \n",
       "1   title: author: release date: september 23, 200...   \n",
       "2   title: author: release date: september 29, 200...   \n",
       "3   title: author: contributor: amadeu  sousa card...   \n",
       "4   exposição +amadeo  souza cardoso+ liga naval  ...   \n",
       "..                                                ...   \n",
       "58  título autora (inspiradíssima)   direitos rese...   \n",
       "59  lisboa, ano  2050.  agosto  gelado    anos .  ...   \n",
       "60  título autora   direitos reservados ©2015 capa...   \n",
       "61  título rapsódia  dó () autora   direitos reser...   \n",
       "62  título autora ( nobel)   direitos reservados ©...   \n",
       "\n",
       "                                        clean_no_punc  \\\n",
       "0   title author release date september 16 2007 eb...   \n",
       "1   title author release date september 23 2007 eb...   \n",
       "2   title author release date september 29 2007 eb...   \n",
       "3   title author contributor amadeu sousa cardoso ...   \n",
       "4   exposicao amadeo souza cardoso liga naval lisb...   \n",
       "..                                                ...   \n",
       "58  titulo autora inspiradissima direitos reservad...   \n",
       "59  lisboa ano 2050 agosto gelado anos dia triste ...   \n",
       "60  titulo autora direitos reservados (c)2015 capa...   \n",
       "61  titulo rapsodia do autora direitos reservados ...   \n",
       "62  titulo autora nobel direitos reservados (c)201...   \n",
       "\n",
       "                                                clean  \n",
       "0   title author release date september 16 2007 eb...  \n",
       "1   title author release date september 23 2007 eb...  \n",
       "2   title author release date september 29 2007 eb...  \n",
       "3   title author contributor amadeu sousa cardoso ...  \n",
       "4   exposicao amadeo souza cardoso liga naval lisb...  \n",
       "..                                                ...  \n",
       "58  titulo autora inspiradissima direitos reservad...  \n",
       "59  lisboa ano 2050 agosto gelado ano dia triste m...  \n",
       "60  titulo autora direitos reservados (c)2015 capa...  \n",
       "61  titulo rapsodia do autora direitos reservados ...  \n",
       "62  titulo autora nobel direitos reservados (c)201...  \n",
       "\n",
       "[63 rows x 7 columns]"
      ]
     },
     "execution_count": 117,
     "metadata": {},
     "output_type": "execute_result"
    }
   ],
   "source": [
    "traindf"
   ]
  },
  {
   "cell_type": "markdown",
   "metadata": {},
   "source": [
    "## Continuous Bag of Words Model"
   ]
  },
  {
   "cell_type": "code",
   "execution_count": null,
   "metadata": {},
   "outputs": [],
   "source": []
  },
  {
   "cell_type": "code",
   "execution_count": null,
   "metadata": {},
   "outputs": [],
   "source": []
  },
  {
   "cell_type": "code",
   "execution_count": null,
   "metadata": {},
   "outputs": [],
   "source": []
  },
  {
   "cell_type": "code",
   "execution_count": null,
   "metadata": {},
   "outputs": [],
   "source": []
  },
  {
   "cell_type": "code",
   "execution_count": null,
   "metadata": {},
   "outputs": [],
   "source": [
    "def get_top_n_grams(corpus, top_k, n):\n",
    "    \"\"\"\n",
    "    Function that receives a list of documents (corpus) and extracts\n",
    "        the top k most frequent n-grams for that corpus.\n",
    "        \n",
    "    :param corpus: list of texts\n",
    "    :param top_k: int with the number of n-grams that we want to extract\n",
    "    :param n: n gram type to be considered \n",
    "             (if n=1 extracts unigrams, if n=2 extracts bigrams, ...)\n",
    "             \n",
    "    :return: Returns a sorted dataframe in which the first column \n",
    "        contains the extracted ngrams and the second column contains\n",
    "        the respective counts\n",
    "    \"\"\"\n",
    "    vec = CountVectorizer(ngram_range=(n, n), max_features=2000).fit(corpus)\n",
    "    \n",
    "    bag_of_words = vec.transform(corpus)\n",
    "    \n",
    "    sum_words = bag_of_words.sum(axis=0) \n",
    "    \n",
    "    words_freq = []\n",
    "    for word, idx in vec.vocabulary_.items():\n",
    "        words_freq.append((word, sum_words[0, idx]))\n",
    "        \n",
    "    words_freq = sorted(words_freq, key=lambda x: x[1], reverse=True)\n",
    "    top_df = pd.DataFrame(words_freq[:top_k])\n",
    "    top_df.columns = [\"Ngram\", \"Freq\"]\n",
    "    return top_df"
   ]
  },
  {
   "cell_type": "code",
   "execution_count": null,
   "metadata": {},
   "outputs": [],
   "source": [
    "top_df = get_top_n_grams(traindf['clean'], top_k=20, n=1)\n",
    "top_df"
   ]
  },
  {
   "cell_type": "code",
   "execution_count": null,
   "metadata": {},
   "outputs": [],
   "source": [
    "import numpy as np\n",
    "import matplotlib.pyplot as plt\n",
    "def plot_frequencies(top_df):\n",
    "    \"\"\"\n",
    "    Function that receives a dataframe from the \"get_top_n_grams\" function\n",
    "    and plots the frequencies in a bar plot.\n",
    "    \"\"\"\n",
    "    x_labels = top_df[\"Ngram\"][:30]\n",
    "    y_pos = np.arange(len(x_labels))\n",
    "    values = top_df[\"Freq\"][:30]\n",
    "    plt.bar(y_pos, values, align='center', alpha=0.5)\n",
    "    plt.xticks(y_pos, x_labels)\n",
    "    plt.ylabel('Frequencies')\n",
    "    plt.title('Words')\n",
    "    plt.xticks(rotation=90)\n",
    "    plt.show()\n",
    "plot_frequencies(top_df)"
   ]
  },
  {
   "cell_type": "code",
   "execution_count": null,
   "metadata": {},
   "outputs": [],
   "source": []
  },
  {
   "cell_type": "code",
   "execution_count": null,
   "metadata": {},
   "outputs": [],
   "source": []
  },
  {
   "cell_type": "code",
   "execution_count": null,
   "metadata": {},
   "outputs": [],
   "source": []
  }
 ],
 "metadata": {
  "kernelspec": {
   "display_name": "Python 3",
   "language": "python",
   "name": "python3"
  },
  "language_info": {
   "codemirror_mode": {
    "name": "ipython",
    "version": 3
   },
   "file_extension": ".py",
   "mimetype": "text/x-python",
   "name": "python",
   "nbconvert_exporter": "python",
   "pygments_lexer": "ipython3",
   "version": "3.7.4"
  }
 },
 "nbformat": 4,
 "nbformat_minor": 4
}
